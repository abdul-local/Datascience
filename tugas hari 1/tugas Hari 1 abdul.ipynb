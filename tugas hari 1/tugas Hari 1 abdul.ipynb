{
 "metadata": {
  "language_info": {
   "codemirror_mode": {
    "name": "ipython",
    "version": 3
   },
   "file_extension": ".py",
   "mimetype": "text/x-python",
   "name": "python",
   "nbconvert_exporter": "python",
   "pygments_lexer": "ipython3",
   "version": "3.9.2"
  },
  "orig_nbformat": 2,
  "kernelspec": {
   "name": "python392jvsc74a57bd06cbb41571b20674ffee661aa3e8e8b885ec56c497d88337beffcf280b455b3f0",
   "display_name": "Python 3.9.2 64-bit"
  },
  "metadata": {
   "interpreter": {
    "hash": "6cbb41571b20674ffee661aa3e8e8b885ec56c497d88337beffcf280b455b3f0"
   }
  }
 },
 "nbformat": 4,
 "nbformat_minor": 2,
 "cells": [
  {
   "cell_type": "code",
   "execution_count": 9,
   "metadata": {},
   "outputs": [
    {
     "output_type": "stream",
     "name": "stdout",
     "text": [
      "Hello World to Python\n"
     ]
    }
   ],
   "source": [
    "# <h2>Soal 1: Hello World to Python</h2>\n",
    "    \n",
    "# Print Say Hello World to Python\n",
    "\n",
    "print('Hello World to Python')"
   ]
  },
  {
   "cell_type": "code",
   "execution_count": 10,
   "metadata": {},
   "outputs": [
    {
     "output_type": "stream",
     "name": "stdout",
     "text": [
      "hasil penjumlahan: 24\nhasil pengurangan: 16\nhasil perkalian: 80\nhasil pembagian: 5.0\n"
     ]
    }
   ],
   "source": [
    "# <h2>Soal 2: Aritmatika di Python </h2>\n",
    "    \n",
    "# - Buat statement pertambahan antara 2 number di Python\n",
    "# - Buat statement perkurangan antara 2 number di Python\n",
    "# - Buat statement perkalian antara 2 number di Python\n",
    "# - Buat statement pembagian antara 2 number di Python\n",
    "\n",
    "a=20\n",
    "b=4\n",
    "\n",
    "# statemen pertambahan\n",
    "print('hasil penjumlahan:',a+b)\n",
    "\n",
    "# statement perkurangan\n",
    "print('hasil pengurangan:',a-b)\n",
    "# statement perkalian\n",
    "print('hasil perkalian:',a*b)\n",
    "\n",
    "#statement pembagian\n",
    "\n",
    "print('hasil pembagian:',a/b)\n"
   ]
  },
  {
   "cell_type": "code",
   "execution_count": 11,
   "metadata": {},
   "outputs": [
    {
     "output_type": "stream",
     "name": "stdout",
     "text": [
      "hasil bagi a dan b bertipe int : 4\nhasil bagi a dan b bertipe float:  4.0\n"
     ]
    }
   ],
   "source": [
    "# <h2>Quiz 3: Assign Variable dan Tipe Data Integer, Float </h2>\n",
    "\n",
    "# - Buat suatu variabel a dan b, dimana a dan b adalah nilai bertipe data numeric\n",
    "# - Berikan suatu nilai bertipe data integer, hasil pembagian dari a dengan b\n",
    "# - Berikan suatu nilai bertipe data float, hasil pembagian dari a dengan b\n",
    "\n",
    "a=20\n",
    "b=5\n",
    "print('hasil bagi a dan b bertipe int :',int(a/b))\n",
    "\n",
    "print('hasil bagi a dan b bertipe float: ', float(a/b))"
   ]
  },
  {
   "cell_type": "code",
   "execution_count": 12,
   "metadata": {},
   "outputs": [
    {
     "output_type": "stream",
     "name": "stdout",
     "text": [
      "Hello sanbrcode, saya abdul hamzan! saya siap belajar python data science.\n"
     ]
    }
   ],
   "source": [
    "# <h2>Soal 4: String Operation </h2>\n",
    "\n",
    "# - masukan nama depan kamu kedalam suatu variable firstname\n",
    "# - masukan nama belakang kamu kedalam suatu variable lasname\n",
    "# - tampilkan suatu kalimat 'Hello sanbercode, saya firstname lastname! saya siap belajar python data science.'\n",
    "\n",
    "firstname='abdul'\n",
    "lastname='hamzan'\n",
    "print('Hello sanbrcode, saya '+firstname+' '+ lastname+'!'+' '+'saya siap belajar python data science.')"
   ]
  },
  {
   "cell_type": "code",
   "execution_count": 13,
   "metadata": {},
   "outputs": [
    {
     "output_type": "stream",
     "name": "stdout",
     "text": [
      "the number: 9.99999\n"
     ]
    }
   ],
   "source": [
    "# <h2>Soal 5: Tipe Data</h2>\n",
    "\n",
    "# Lengkapi code di bawah ini untuk menghasilkan output yang sesuai\n",
    "# p = 9.99999\n",
    "# q = 'the number: '\n",
    "# print(q + ...(p))\n",
    "\n",
    "p = 9.99999\n",
    "q = 'the number: '\n",
    "\n",
    "print(q+str(p))\n"
   ]
  },
  {
   "cell_type": "code",
   "execution_count": null,
   "metadata": {},
   "outputs": [],
   "source": []
  }
 ]
}