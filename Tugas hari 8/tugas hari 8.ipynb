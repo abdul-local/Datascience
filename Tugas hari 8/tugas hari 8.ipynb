{
 "metadata": {
  "language_info": {
   "codemirror_mode": {
    "name": "ipython",
    "version": 3
   },
   "file_extension": ".py",
   "mimetype": "text/x-python",
   "name": "python",
   "nbconvert_exporter": "python",
   "pygments_lexer": "ipython3",
   "version": "3.9.2"
  },
  "orig_nbformat": 2,
  "kernelspec": {
   "name": "python392jvsc74a57bd06cbb41571b20674ffee661aa3e8e8b885ec56c497d88337beffcf280b455b3f0",
   "display_name": "Python 3.9.2 64-bit"
  },
  "metadata": {
   "interpreter": {
    "hash": "6cbb41571b20674ffee661aa3e8e8b885ec56c497d88337beffcf280b455b3f0"
   }
  }
 },
 "nbformat": 4,
 "nbformat_minor": 2,
 "cells": [
  {
   "cell_type": "code",
   "execution_count": 2,
   "metadata": {},
   "outputs": [],
   "source": [
    "# <h2>Soal 1: Pivoting and Melting</h2>\n",
    "\n",
    "# Jelaskan itu pivoting dan melting data\n",
    "Pivoting adalah suatu pengubahan bentuk data dengan memutar data yang terletak di baris menjadi di column.\n",
    "Melting adalah ‘unpivoting’, melting mengubah suatu data dengan memutar dari yang tadinya berada di posisi column menjadi di posisi row."
   ]
  },
  {
   "cell_type": "code",
   "execution_count": 3,
   "metadata": {},
   "outputs": [],
   "source": [
    "# <h2>Soal 2: Data structure Comprehension</h2>\n",
    "\n",
    "# Data yang rapi adalah:\n",
    "# 1. Setiap row menunjukan suatu unit observasi\n",
    "# 2. Setiap column merupakan suatu unit variable\n",
    "\n",
    "# Bagaimana pun, dalam menentukan unit observasi itu tergantung dari kasus yang di hadapi. sebagai seorang data scientist pasti akan menemukan berbagai bentuk struktur data. adalah sangat penting bagi seorang data scientist untuk dapat memahami dan menjelaskan setiap struktur data. Kemampuan memahami hubungan antara index baris, column dan isi data adalah kunci untuk memahami informasi apa yang data sedang beritahukan kepada kita.\n",
    "\n",
    "# Di bawah ini terdapat 2 data yang berisi sama, tetapi memiliki struktur yang berbeda. Jelaskan perbedaan dari 2 struktur data tersebut\n",
    "# jawaban \n",
    "pada gambar yang pertama Data structure Comprehension menggunakan pivot dengan index='Tipe Ujian' sedangkan colomns='Mata Pelajaran' dengan  Values ='Rata2 Waktu Belajar (menit)' \n",
    "dapat di ketahui bahwa pada gambar pertama menggunakan method pivot karena terdapat argumen di dalamnya di anataranya index,colomns dan values\n",
    "\n",
    "Pada gambar kedua Data structure Comprehension menggunakan melt dengan id_vars='Hari',var_name='Mata Pelajaran', value_name='Rata2 Waktu Belajar(menit)', \n",
    "dapat di ketahui bahwa pada gambar kedua menggunakan method melt karena terdapat argument id_vars dan Value_var\n",
    "\n"
   ]
  },
  {
   "cell_type": "code",
   "execution_count": 45,
   "metadata": {},
   "outputs": [
    {
     "output_type": "execute_result",
     "data": {
      "text/plain": [
       "   Tipe Ujian Mata Pelajaran  Rata2 Waktu Belajar (menit)  Rata2 Nilai Ujian\n",
       "0        UTS1         Fisika                          588                 57\n",
       "1        UAS1         Fisika                          221                 48\n",
       "2        UTS2         Fisika                          716                 60\n",
       "3        UAS2         Fisika                          264                 44\n",
       "4        UTS1     Matematika                          201                 97\n",
       "5        UAS1     Matematika                          224                 96\n",
       "6        UTS2     Matematika                          442                 68\n",
       "7        UAS2     Matematika                          419                 72\n",
       "8        UTS1     Statistika                          599                 46\n",
       "9        UAS1     Statistika                          358                 99\n",
       "10       UTS2     Statistika                          452                 66\n",
       "11       UAS2     Statistika                          682                 82"
      ],
      "text/html": "<div>\n<style scoped>\n    .dataframe tbody tr th:only-of-type {\n        vertical-align: middle;\n    }\n\n    .dataframe tbody tr th {\n        vertical-align: top;\n    }\n\n    .dataframe thead th {\n        text-align: right;\n    }\n</style>\n<table border=\"1\" class=\"dataframe\">\n  <thead>\n    <tr style=\"text-align: right;\">\n      <th></th>\n      <th>Tipe Ujian</th>\n      <th>Mata Pelajaran</th>\n      <th>Rata2 Waktu Belajar (menit)</th>\n      <th>Rata2 Nilai Ujian</th>\n    </tr>\n  </thead>\n  <tbody>\n    <tr>\n      <th>0</th>\n      <td>UTS1</td>\n      <td>Fisika</td>\n      <td>588</td>\n      <td>57</td>\n    </tr>\n    <tr>\n      <th>1</th>\n      <td>UAS1</td>\n      <td>Fisika</td>\n      <td>221</td>\n      <td>48</td>\n    </tr>\n    <tr>\n      <th>2</th>\n      <td>UTS2</td>\n      <td>Fisika</td>\n      <td>716</td>\n      <td>60</td>\n    </tr>\n    <tr>\n      <th>3</th>\n      <td>UAS2</td>\n      <td>Fisika</td>\n      <td>264</td>\n      <td>44</td>\n    </tr>\n    <tr>\n      <th>4</th>\n      <td>UTS1</td>\n      <td>Matematika</td>\n      <td>201</td>\n      <td>97</td>\n    </tr>\n    <tr>\n      <th>5</th>\n      <td>UAS1</td>\n      <td>Matematika</td>\n      <td>224</td>\n      <td>96</td>\n    </tr>\n    <tr>\n      <th>6</th>\n      <td>UTS2</td>\n      <td>Matematika</td>\n      <td>442</td>\n      <td>68</td>\n    </tr>\n    <tr>\n      <th>7</th>\n      <td>UAS2</td>\n      <td>Matematika</td>\n      <td>419</td>\n      <td>72</td>\n    </tr>\n    <tr>\n      <th>8</th>\n      <td>UTS1</td>\n      <td>Statistika</td>\n      <td>599</td>\n      <td>46</td>\n    </tr>\n    <tr>\n      <th>9</th>\n      <td>UAS1</td>\n      <td>Statistika</td>\n      <td>358</td>\n      <td>99</td>\n    </tr>\n    <tr>\n      <th>10</th>\n      <td>UTS2</td>\n      <td>Statistika</td>\n      <td>452</td>\n      <td>66</td>\n    </tr>\n    <tr>\n      <th>11</th>\n      <td>UAS2</td>\n      <td>Statistika</td>\n      <td>682</td>\n      <td>82</td>\n    </tr>\n  </tbody>\n</table>\n</div>"
     },
     "metadata": {},
     "execution_count": 45
    }
   ],
   "source": [
    "# <h2>Soal 3: Reshaping Data 1</h2>\n",
    "import pandas as pd\n",
    "import random\n",
    "\n",
    "data = {\n",
    "    'Tipe Ujian' : ['UTS1', 'UAS1', 'UTS2', 'UAS2']*3,\n",
    "    'Mata Pelajaran' : ['Fisika']*4 + ['Matematika']*4+['Statistika']*4,\n",
    "    'Rata2 Waktu Belajar (menit)' : [random.choice(range(200, 800)) for i in range(12)],\n",
    "    'Rata2 Nilai Ujian' : [random.choice(range(40, 100)) for i in range(12)] \n",
    "}\n",
    "df = pd.DataFrame(data)\n",
    "df"
   ]
  },
  {
   "cell_type": "code",
   "execution_count": 50,
   "metadata": {},
   "outputs": [
    {
     "output_type": "execute_result",
     "data": {
      "text/plain": [
       "               Rata2 Nilai Ujian                        \\\n",
       "Mata Pelajaran            Fisika Matematika Statistika   \n",
       "Tipe Ujian                                               \n",
       "UAS1                          48         96         99   \n",
       "UAS2                          44         72         82   \n",
       "UTS1                          57         97         46   \n",
       "UTS2                          60         68         66   \n",
       "\n",
       "               Rata2 Waktu Belajar (menit)                        \n",
       "Mata Pelajaran                      Fisika Matematika Statistika  \n",
       "Tipe Ujian                                                        \n",
       "UAS1                                   221        224        358  \n",
       "UAS2                                   264        419        682  \n",
       "UTS1                                   588        201        599  \n",
       "UTS2                                   716        442        452  "
      ],
      "text/html": "<div>\n<style scoped>\n    .dataframe tbody tr th:only-of-type {\n        vertical-align: middle;\n    }\n\n    .dataframe tbody tr th {\n        vertical-align: top;\n    }\n\n    .dataframe thead tr th {\n        text-align: left;\n    }\n\n    .dataframe thead tr:last-of-type th {\n        text-align: right;\n    }\n</style>\n<table border=\"1\" class=\"dataframe\">\n  <thead>\n    <tr>\n      <th></th>\n      <th colspan=\"3\" halign=\"left\">Rata2 Nilai Ujian</th>\n      <th colspan=\"3\" halign=\"left\">Rata2 Waktu Belajar (menit)</th>\n    </tr>\n    <tr>\n      <th>Mata Pelajaran</th>\n      <th>Fisika</th>\n      <th>Matematika</th>\n      <th>Statistika</th>\n      <th>Fisika</th>\n      <th>Matematika</th>\n      <th>Statistika</th>\n    </tr>\n    <tr>\n      <th>Tipe Ujian</th>\n      <th></th>\n      <th></th>\n      <th></th>\n      <th></th>\n      <th></th>\n      <th></th>\n    </tr>\n  </thead>\n  <tbody>\n    <tr>\n      <th>UAS1</th>\n      <td>48</td>\n      <td>96</td>\n      <td>99</td>\n      <td>221</td>\n      <td>224</td>\n      <td>358</td>\n    </tr>\n    <tr>\n      <th>UAS2</th>\n      <td>44</td>\n      <td>72</td>\n      <td>82</td>\n      <td>264</td>\n      <td>419</td>\n      <td>682</td>\n    </tr>\n    <tr>\n      <th>UTS1</th>\n      <td>57</td>\n      <td>97</td>\n      <td>46</td>\n      <td>588</td>\n      <td>201</td>\n      <td>599</td>\n    </tr>\n    <tr>\n      <th>UTS2</th>\n      <td>60</td>\n      <td>68</td>\n      <td>66</td>\n      <td>716</td>\n      <td>442</td>\n      <td>452</td>\n    </tr>\n  </tbody>\n</table>\n</div>"
     },
     "metadata": {},
     "execution_count": 50
    }
   ],
   "source": [
    "df_pivot=pd.pivot(df, index='Tipe Ujian',columns='Mata Pelajaran', values=['Rata2 Nilai Ujian','Rata2 Waktu Belajar (menit)'])\n",
    "df_pivot"
   ]
  },
  {
   "cell_type": "code",
   "execution_count": 24,
   "metadata": {},
   "outputs": [
    {
     "output_type": "execute_result",
     "data": {
      "text/plain": [
       "        Kebun Binatang  Dufan  Disney  Bali\n",
       "Hari                                       \n",
       "Sabtu              271    501    1000   900\n",
       "Minggu             399    700    1001   803"
      ],
      "text/html": "<div>\n<style scoped>\n    .dataframe tbody tr th:only-of-type {\n        vertical-align: middle;\n    }\n\n    .dataframe tbody tr th {\n        vertical-align: top;\n    }\n\n    .dataframe thead th {\n        text-align: right;\n    }\n</style>\n<table border=\"1\" class=\"dataframe\">\n  <thead>\n    <tr style=\"text-align: right;\">\n      <th></th>\n      <th>Kebun Binatang</th>\n      <th>Dufan</th>\n      <th>Disney</th>\n      <th>Bali</th>\n    </tr>\n    <tr>\n      <th>Hari</th>\n      <th></th>\n      <th></th>\n      <th></th>\n      <th></th>\n    </tr>\n  </thead>\n  <tbody>\n    <tr>\n      <th>Sabtu</th>\n      <td>271</td>\n      <td>501</td>\n      <td>1000</td>\n      <td>900</td>\n    </tr>\n    <tr>\n      <th>Minggu</th>\n      <td>399</td>\n      <td>700</td>\n      <td>1001</td>\n      <td>803</td>\n    </tr>\n  </tbody>\n</table>\n</div>"
     },
     "metadata": {},
     "execution_count": 24
    }
   ],
   "source": [
    "import pandas as pd\n",
    "\n",
    "data = {\n",
    "    'Hari' : ['Sabtu', 'Minggu'],\n",
    "    'Kebun Binatang' : [271, 399],\n",
    "    'Dufan' : [501, 700],\n",
    "    'Disney' : [1000, 1001],\n",
    "    'Bali' : [900, 803]\n",
    "}\n",
    "df2 = pd.DataFrame(data).set_index('Hari')\n",
    "df2\n",
    "# diatas adalah data tentang jumlah pengunjung di berbagai tempat hiburan, ubahlah struktur data tersebut sehingga sesuai dengan hasil yang diharapkan."
   ]
  },
  {
   "cell_type": "code",
   "execution_count": 35,
   "metadata": {},
   "outputs": [
    {
     "output_type": "execute_result",
     "data": {
      "text/plain": [
       "     Hari  Tempat Hiburan  Pengunjung\n",
       "0   Sabtu  Kebun Binatang         271\n",
       "1  Minggu  Kebun Binatang         399\n",
       "2   Sabtu           Dufan         501\n",
       "3  Minggu           Dufan         700\n",
       "4   Sabtu          Disney        1000\n",
       "5  Minggu          Disney        1001\n",
       "6   Sabtu            Bali         900\n",
       "7  Minggu            Bali         803"
      ],
      "text/html": "<div>\n<style scoped>\n    .dataframe tbody tr th:only-of-type {\n        vertical-align: middle;\n    }\n\n    .dataframe tbody tr th {\n        vertical-align: top;\n    }\n\n    .dataframe thead th {\n        text-align: right;\n    }\n</style>\n<table border=\"1\" class=\"dataframe\">\n  <thead>\n    <tr style=\"text-align: right;\">\n      <th></th>\n      <th>Hari</th>\n      <th>Tempat Hiburan</th>\n      <th>Pengunjung</th>\n    </tr>\n  </thead>\n  <tbody>\n    <tr>\n      <th>0</th>\n      <td>Sabtu</td>\n      <td>Kebun Binatang</td>\n      <td>271</td>\n    </tr>\n    <tr>\n      <th>1</th>\n      <td>Minggu</td>\n      <td>Kebun Binatang</td>\n      <td>399</td>\n    </tr>\n    <tr>\n      <th>2</th>\n      <td>Sabtu</td>\n      <td>Dufan</td>\n      <td>501</td>\n    </tr>\n    <tr>\n      <th>3</th>\n      <td>Minggu</td>\n      <td>Dufan</td>\n      <td>700</td>\n    </tr>\n    <tr>\n      <th>4</th>\n      <td>Sabtu</td>\n      <td>Disney</td>\n      <td>1000</td>\n    </tr>\n    <tr>\n      <th>5</th>\n      <td>Minggu</td>\n      <td>Disney</td>\n      <td>1001</td>\n    </tr>\n    <tr>\n      <th>6</th>\n      <td>Sabtu</td>\n      <td>Bali</td>\n      <td>900</td>\n    </tr>\n    <tr>\n      <th>7</th>\n      <td>Minggu</td>\n      <td>Bali</td>\n      <td>803</td>\n    </tr>\n  </tbody>\n</table>\n</div>"
     },
     "metadata": {},
     "execution_count": 35
    }
   ],
   "source": [
    "\n",
    "df2_melt=pd.melt(df2.reset_index(),id_vars='Hari',var_name='Tempat Hiburan', value_name='Pengunjung' )\n",
    "df2_melt"
   ]
  },
  {
   "cell_type": "code",
   "execution_count": 36,
   "metadata": {},
   "outputs": [
    {
     "output_type": "execute_result",
     "data": {
      "text/plain": [
       "           Mata Pelajaran  Jumlah Peserta\n",
       "Tipe Ujian                               \n",
       "UTS1           Statistika              14\n",
       "UAS1               Fisika              17\n",
       "UTS1               Fisika              12\n",
       "UAS1           Statistika              16\n",
       "UTS1               Fisika              14\n",
       "UAS1           Statistika              13"
      ],
      "text/html": "<div>\n<style scoped>\n    .dataframe tbody tr th:only-of-type {\n        vertical-align: middle;\n    }\n\n    .dataframe tbody tr th {\n        vertical-align: top;\n    }\n\n    .dataframe thead th {\n        text-align: right;\n    }\n</style>\n<table border=\"1\" class=\"dataframe\">\n  <thead>\n    <tr style=\"text-align: right;\">\n      <th></th>\n      <th>Mata Pelajaran</th>\n      <th>Jumlah Peserta</th>\n    </tr>\n    <tr>\n      <th>Tipe Ujian</th>\n      <th></th>\n      <th></th>\n    </tr>\n  </thead>\n  <tbody>\n    <tr>\n      <th>UTS1</th>\n      <td>Statistika</td>\n      <td>14</td>\n    </tr>\n    <tr>\n      <th>UAS1</th>\n      <td>Fisika</td>\n      <td>17</td>\n    </tr>\n    <tr>\n      <th>UTS1</th>\n      <td>Fisika</td>\n      <td>12</td>\n    </tr>\n    <tr>\n      <th>UAS1</th>\n      <td>Statistika</td>\n      <td>16</td>\n    </tr>\n    <tr>\n      <th>UTS1</th>\n      <td>Fisika</td>\n      <td>14</td>\n    </tr>\n    <tr>\n      <th>UAS1</th>\n      <td>Statistika</td>\n      <td>13</td>\n    </tr>\n  </tbody>\n</table>\n</div>"
     },
     "metadata": {},
     "execution_count": 36
    }
   ],
   "source": [
    "import pandas as pd\n",
    "\n",
    "data = {\n",
    "    'Tipe Ujian' : ['UTS1', 'UAS1']*3,\n",
    "    'Mata Pelajaran' :['Statistika', 'Fisika', 'Fisika', 'Statistika', 'Fisika', 'Statistika'],\n",
    "    'Jumlah Peserta' : [14, 17, 12, 16, 14, 13]\n",
    "}\n",
    "df3 = pd.DataFrame(data).set_index('Tipe Ujian')\n",
    "df3"
   ]
  },
  {
   "cell_type": "code",
   "execution_count": 38,
   "metadata": {},
   "outputs": [
    {
     "output_type": "execute_result",
     "data": {
      "text/plain": [
       "Mata Pelajaran  Fisika  Statistika\n",
       "Tipe Ujian                        \n",
       "UAS1                17          29\n",
       "UTS1                26          14"
      ],
      "text/html": "<div>\n<style scoped>\n    .dataframe tbody tr th:only-of-type {\n        vertical-align: middle;\n    }\n\n    .dataframe tbody tr th {\n        vertical-align: top;\n    }\n\n    .dataframe thead th {\n        text-align: right;\n    }\n</style>\n<table border=\"1\" class=\"dataframe\">\n  <thead>\n    <tr style=\"text-align: right;\">\n      <th>Mata Pelajaran</th>\n      <th>Fisika</th>\n      <th>Statistika</th>\n    </tr>\n    <tr>\n      <th>Tipe Ujian</th>\n      <th></th>\n      <th></th>\n    </tr>\n  </thead>\n  <tbody>\n    <tr>\n      <th>UAS1</th>\n      <td>17</td>\n      <td>29</td>\n    </tr>\n    <tr>\n      <th>UTS1</th>\n      <td>26</td>\n      <td>14</td>\n    </tr>\n  </tbody>\n</table>\n</div>"
     },
     "metadata": {},
     "execution_count": 38
    }
   ],
   "source": [
    "# Perhatikan bahwa data jumlah peserta ujian untuk suatu tipe ujian dan mata pelajaran tertentu ada yang duplikat, ubahlah struktur data tersebut dan lakukan aggregasi berjenis jumlah sehingga sesuai dengan hasil yang di harapkan\n",
    "\n",
    "df3_pivot=pd.pivot_table(df3.reset_index(),index='Tipe Ujian',columns='Mata Pelajaran',values='Jumlah Peserta',aggfunc='sum')\n",
    "df3_pivot"
   ]
  },
  {
   "cell_type": "code",
   "execution_count": null,
   "metadata": {},
   "outputs": [],
   "source": []
  }
 ]
}