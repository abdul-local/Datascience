{
 "metadata": {
  "language_info": {
   "codemirror_mode": {
    "name": "ipython",
    "version": 3
   },
   "file_extension": ".py",
   "mimetype": "text/x-python",
   "name": "python",
   "nbconvert_exporter": "python",
   "pygments_lexer": "ipython3",
   "version": "3.9.2"
  },
  "orig_nbformat": 2,
  "kernelspec": {
   "name": "python392jvsc74a57bd06cbb41571b20674ffee661aa3e8e8b885ec56c497d88337beffcf280b455b3f0",
   "display_name": "Python 3.9.2 64-bit"
  },
  "metadata": {
   "interpreter": {
    "hash": "6cbb41571b20674ffee661aa3e8e8b885ec56c497d88337beffcf280b455b3f0"
   }
  }
 },
 "nbformat": 4,
 "nbformat_minor": 2,
 "cells": [
  {
   "cell_type": "code",
   "execution_count": 55,
   "metadata": {},
   "outputs": [
    {
     "output_type": "display_data",
     "data": {
      "text/plain": "    siswa_id   pelajaran  nilai jenis_kelamin kelas\n0          1     Biologi     96     perempuan   12B\n1          2      Fisika     11     perempuan   12D\n2          3     Ekonomi     37     laki-laki   12C\n3          4     Ekonomi     23     perempuan   12B\n4          5      Fisika     60     perempuan   12D\n5          6      Fisika     35     laki-laki   12C\n6          7       Kimia     59     laki-laki   12A\n7          8     Geologi     57     perempuan   12A\n8          9  Matematika     18     perempuan   12B\n9         10     Geologi     24     laki-laki   12D\n10        11     Geologi     86     laki-laki   12B\n11        12     Ekonomi     59     perempuan   12D\n12        13     Ekonomi     30     laki-laki   12C\n13        14       Kimia     12     perempuan   12B\n14        15      Fisika     41     laki-laki   12A\n15        16      Fisika     47     laki-laki   12C\n16        17      Fisika     76     perempuan   12C\n17        18     Geologi      4     laki-laki   12D\n18        19  Matematika     40     perempuan   12C\n19        20     Ekonomi     53     perempuan   12B",
      "text/html": "<div>\n<style scoped>\n    .dataframe tbody tr th:only-of-type {\n        vertical-align: middle;\n    }\n\n    .dataframe tbody tr th {\n        vertical-align: top;\n    }\n\n    .dataframe thead th {\n        text-align: right;\n    }\n</style>\n<table border=\"1\" class=\"dataframe\">\n  <thead>\n    <tr style=\"text-align: right;\">\n      <th></th>\n      <th>siswa_id</th>\n      <th>pelajaran</th>\n      <th>nilai</th>\n      <th>jenis_kelamin</th>\n      <th>kelas</th>\n    </tr>\n  </thead>\n  <tbody>\n    <tr>\n      <th>0</th>\n      <td>1</td>\n      <td>Biologi</td>\n      <td>96</td>\n      <td>perempuan</td>\n      <td>12B</td>\n    </tr>\n    <tr>\n      <th>1</th>\n      <td>2</td>\n      <td>Fisika</td>\n      <td>11</td>\n      <td>perempuan</td>\n      <td>12D</td>\n    </tr>\n    <tr>\n      <th>2</th>\n      <td>3</td>\n      <td>Ekonomi</td>\n      <td>37</td>\n      <td>laki-laki</td>\n      <td>12C</td>\n    </tr>\n    <tr>\n      <th>3</th>\n      <td>4</td>\n      <td>Ekonomi</td>\n      <td>23</td>\n      <td>perempuan</td>\n      <td>12B</td>\n    </tr>\n    <tr>\n      <th>4</th>\n      <td>5</td>\n      <td>Fisika</td>\n      <td>60</td>\n      <td>perempuan</td>\n      <td>12D</td>\n    </tr>\n    <tr>\n      <th>5</th>\n      <td>6</td>\n      <td>Fisika</td>\n      <td>35</td>\n      <td>laki-laki</td>\n      <td>12C</td>\n    </tr>\n    <tr>\n      <th>6</th>\n      <td>7</td>\n      <td>Kimia</td>\n      <td>59</td>\n      <td>laki-laki</td>\n      <td>12A</td>\n    </tr>\n    <tr>\n      <th>7</th>\n      <td>8</td>\n      <td>Geologi</td>\n      <td>57</td>\n      <td>perempuan</td>\n      <td>12A</td>\n    </tr>\n    <tr>\n      <th>8</th>\n      <td>9</td>\n      <td>Matematika</td>\n      <td>18</td>\n      <td>perempuan</td>\n      <td>12B</td>\n    </tr>\n    <tr>\n      <th>9</th>\n      <td>10</td>\n      <td>Geologi</td>\n      <td>24</td>\n      <td>laki-laki</td>\n      <td>12D</td>\n    </tr>\n    <tr>\n      <th>10</th>\n      <td>11</td>\n      <td>Geologi</td>\n      <td>86</td>\n      <td>laki-laki</td>\n      <td>12B</td>\n    </tr>\n    <tr>\n      <th>11</th>\n      <td>12</td>\n      <td>Ekonomi</td>\n      <td>59</td>\n      <td>perempuan</td>\n      <td>12D</td>\n    </tr>\n    <tr>\n      <th>12</th>\n      <td>13</td>\n      <td>Ekonomi</td>\n      <td>30</td>\n      <td>laki-laki</td>\n      <td>12C</td>\n    </tr>\n    <tr>\n      <th>13</th>\n      <td>14</td>\n      <td>Kimia</td>\n      <td>12</td>\n      <td>perempuan</td>\n      <td>12B</td>\n    </tr>\n    <tr>\n      <th>14</th>\n      <td>15</td>\n      <td>Fisika</td>\n      <td>41</td>\n      <td>laki-laki</td>\n      <td>12A</td>\n    </tr>\n    <tr>\n      <th>15</th>\n      <td>16</td>\n      <td>Fisika</td>\n      <td>47</td>\n      <td>laki-laki</td>\n      <td>12C</td>\n    </tr>\n    <tr>\n      <th>16</th>\n      <td>17</td>\n      <td>Fisika</td>\n      <td>76</td>\n      <td>perempuan</td>\n      <td>12C</td>\n    </tr>\n    <tr>\n      <th>17</th>\n      <td>18</td>\n      <td>Geologi</td>\n      <td>4</td>\n      <td>laki-laki</td>\n      <td>12D</td>\n    </tr>\n    <tr>\n      <th>18</th>\n      <td>19</td>\n      <td>Matematika</td>\n      <td>40</td>\n      <td>perempuan</td>\n      <td>12C</td>\n    </tr>\n    <tr>\n      <th>19</th>\n      <td>20</td>\n      <td>Ekonomi</td>\n      <td>53</td>\n      <td>perempuan</td>\n      <td>12B</td>\n    </tr>\n  </tbody>\n</table>\n</div>"
     },
     "metadata": {}
    }
   ],
   "source": [
    "# Persiapan membuat data\n",
    "import pandas as pd\n",
    "import random\n",
    "\n",
    "pelajaran = ['Matematika', 'Fisika', 'Biologi', 'Kimia', 'Geologi', 'Ekonomi']\n",
    "kelas = ['12A', '12B', '12C', '12D']\n",
    "\n",
    "hasil_nilai = {\n",
    "    'siswa_id' : range(1, 21),\n",
    "    'pelajaran' : [random.choice(pelajaran) for i in range(20)],\n",
    "    'nilai' : [random.choice(range(0, 100)) for i in range(20)],\n",
    "    'jenis_kelamin' : [random.choice(['laki-laki', 'perempuan']) for i in range(20)],\n",
    "    'kelas' : [random.choice(kelas) for i in range(20)]\n",
    "}\n",
    "\n",
    "df = pd.DataFrame(hasil_nilai)\n",
    "display(df)"
   ]
  },
  {
   "cell_type": "code",
   "execution_count": 57,
   "metadata": {},
   "outputs": [
    {
     "output_type": "display_data",
     "data": {
      "text/plain": "    nilai kelas\n0      96   12B\n1      11   12D\n2      37   12C\n3      23   12B\n4      60   12D\n5      35   12C\n6      59   12A\n7      57   12A\n8      18   12B\n9      24   12D\n10     86   12B\n11     59   12D\n12     30   12C\n13     12   12B\n14     41   12A\n15     47   12C\n16     76   12C\n17      4   12D\n18     40   12C\n19     53   12B",
      "text/html": "<div>\n<style scoped>\n    .dataframe tbody tr th:only-of-type {\n        vertical-align: middle;\n    }\n\n    .dataframe tbody tr th {\n        vertical-align: top;\n    }\n\n    .dataframe thead th {\n        text-align: right;\n    }\n</style>\n<table border=\"1\" class=\"dataframe\">\n  <thead>\n    <tr style=\"text-align: right;\">\n      <th></th>\n      <th>nilai</th>\n      <th>kelas</th>\n    </tr>\n  </thead>\n  <tbody>\n    <tr>\n      <th>0</th>\n      <td>96</td>\n      <td>12B</td>\n    </tr>\n    <tr>\n      <th>1</th>\n      <td>11</td>\n      <td>12D</td>\n    </tr>\n    <tr>\n      <th>2</th>\n      <td>37</td>\n      <td>12C</td>\n    </tr>\n    <tr>\n      <th>3</th>\n      <td>23</td>\n      <td>12B</td>\n    </tr>\n    <tr>\n      <th>4</th>\n      <td>60</td>\n      <td>12D</td>\n    </tr>\n    <tr>\n      <th>5</th>\n      <td>35</td>\n      <td>12C</td>\n    </tr>\n    <tr>\n      <th>6</th>\n      <td>59</td>\n      <td>12A</td>\n    </tr>\n    <tr>\n      <th>7</th>\n      <td>57</td>\n      <td>12A</td>\n    </tr>\n    <tr>\n      <th>8</th>\n      <td>18</td>\n      <td>12B</td>\n    </tr>\n    <tr>\n      <th>9</th>\n      <td>24</td>\n      <td>12D</td>\n    </tr>\n    <tr>\n      <th>10</th>\n      <td>86</td>\n      <td>12B</td>\n    </tr>\n    <tr>\n      <th>11</th>\n      <td>59</td>\n      <td>12D</td>\n    </tr>\n    <tr>\n      <th>12</th>\n      <td>30</td>\n      <td>12C</td>\n    </tr>\n    <tr>\n      <th>13</th>\n      <td>12</td>\n      <td>12B</td>\n    </tr>\n    <tr>\n      <th>14</th>\n      <td>41</td>\n      <td>12A</td>\n    </tr>\n    <tr>\n      <th>15</th>\n      <td>47</td>\n      <td>12C</td>\n    </tr>\n    <tr>\n      <th>16</th>\n      <td>76</td>\n      <td>12C</td>\n    </tr>\n    <tr>\n      <th>17</th>\n      <td>4</td>\n      <td>12D</td>\n    </tr>\n    <tr>\n      <th>18</th>\n      <td>40</td>\n      <td>12C</td>\n    </tr>\n    <tr>\n      <th>19</th>\n      <td>53</td>\n      <td>12B</td>\n    </tr>\n  </tbody>\n</table>\n</div>"
     },
     "metadata": {}
    },
    {
     "output_type": "display_data",
     "data": {
      "text/plain": "     pelajaran  nilai\n5       Fisika     35\n6        Kimia     59\n7      Geologi     57\n8   Matematika     18\n9      Geologi     24\n10     Geologi     86",
      "text/html": "<div>\n<style scoped>\n    .dataframe tbody tr th:only-of-type {\n        vertical-align: middle;\n    }\n\n    .dataframe tbody tr th {\n        vertical-align: top;\n    }\n\n    .dataframe thead th {\n        text-align: right;\n    }\n</style>\n<table border=\"1\" class=\"dataframe\">\n  <thead>\n    <tr style=\"text-align: right;\">\n      <th></th>\n      <th>pelajaran</th>\n      <th>nilai</th>\n    </tr>\n  </thead>\n  <tbody>\n    <tr>\n      <th>5</th>\n      <td>Fisika</td>\n      <td>35</td>\n    </tr>\n    <tr>\n      <th>6</th>\n      <td>Kimia</td>\n      <td>59</td>\n    </tr>\n    <tr>\n      <th>7</th>\n      <td>Geologi</td>\n      <td>57</td>\n    </tr>\n    <tr>\n      <th>8</th>\n      <td>Matematika</td>\n      <td>18</td>\n    </tr>\n    <tr>\n      <th>9</th>\n      <td>Geologi</td>\n      <td>24</td>\n    </tr>\n    <tr>\n      <th>10</th>\n      <td>Geologi</td>\n      <td>86</td>\n    </tr>\n  </tbody>\n</table>\n</div>"
     },
     "metadata": {}
    }
   ],
   "source": [
    "# <h2>Soal 1: Indexing</h2>\n",
    "\n",
    "# 1. Lakukan indexing terhadap dataframe untuk mengakses column nilai dan kelas saja\n",
    "# 2. Lakukan indexing terhadap dataframe untuk mengakses row 5 sampai 10 beserta column pelajaran dan nilai\n",
    "# jawab\n",
    "col_kelas=df.loc[0:,['nilai','kelas']]\n",
    "display(col_kelas)\n",
    "baris_5_10=df.iloc[5:11,[1,2]]\n",
    "display(baris_5_10)"
   ]
  },
  {
   "cell_type": "code",
   "execution_count": 56,
   "metadata": {},
   "outputs": [
    {
     "output_type": "display_data",
     "data": {
      "text/plain": "    siswa_id pelajaran  nilai jenis_kelamin kelas\n1          2    Fisika     11     perempuan   12D\n2          3   Ekonomi     37     laki-laki   12C\n3          4   Ekonomi     23     perempuan   12B\n4          5    Fisika     60     perempuan   12D\n5          6    Fisika     35     laki-laki   12C\n11        12   Ekonomi     59     perempuan   12D\n12        13   Ekonomi     30     laki-laki   12C\n14        15    Fisika     41     laki-laki   12A\n15        16    Fisika     47     laki-laki   12C\n16        17    Fisika     76     perempuan   12C\n19        20   Ekonomi     53     perempuan   12B",
      "text/html": "<div>\n<style scoped>\n    .dataframe tbody tr th:only-of-type {\n        vertical-align: middle;\n    }\n\n    .dataframe tbody tr th {\n        vertical-align: top;\n    }\n\n    .dataframe thead th {\n        text-align: right;\n    }\n</style>\n<table border=\"1\" class=\"dataframe\">\n  <thead>\n    <tr style=\"text-align: right;\">\n      <th></th>\n      <th>siswa_id</th>\n      <th>pelajaran</th>\n      <th>nilai</th>\n      <th>jenis_kelamin</th>\n      <th>kelas</th>\n    </tr>\n  </thead>\n  <tbody>\n    <tr>\n      <th>1</th>\n      <td>2</td>\n      <td>Fisika</td>\n      <td>11</td>\n      <td>perempuan</td>\n      <td>12D</td>\n    </tr>\n    <tr>\n      <th>2</th>\n      <td>3</td>\n      <td>Ekonomi</td>\n      <td>37</td>\n      <td>laki-laki</td>\n      <td>12C</td>\n    </tr>\n    <tr>\n      <th>3</th>\n      <td>4</td>\n      <td>Ekonomi</td>\n      <td>23</td>\n      <td>perempuan</td>\n      <td>12B</td>\n    </tr>\n    <tr>\n      <th>4</th>\n      <td>5</td>\n      <td>Fisika</td>\n      <td>60</td>\n      <td>perempuan</td>\n      <td>12D</td>\n    </tr>\n    <tr>\n      <th>5</th>\n      <td>6</td>\n      <td>Fisika</td>\n      <td>35</td>\n      <td>laki-laki</td>\n      <td>12C</td>\n    </tr>\n    <tr>\n      <th>11</th>\n      <td>12</td>\n      <td>Ekonomi</td>\n      <td>59</td>\n      <td>perempuan</td>\n      <td>12D</td>\n    </tr>\n    <tr>\n      <th>12</th>\n      <td>13</td>\n      <td>Ekonomi</td>\n      <td>30</td>\n      <td>laki-laki</td>\n      <td>12C</td>\n    </tr>\n    <tr>\n      <th>14</th>\n      <td>15</td>\n      <td>Fisika</td>\n      <td>41</td>\n      <td>laki-laki</td>\n      <td>12A</td>\n    </tr>\n    <tr>\n      <th>15</th>\n      <td>16</td>\n      <td>Fisika</td>\n      <td>47</td>\n      <td>laki-laki</td>\n      <td>12C</td>\n    </tr>\n    <tr>\n      <th>16</th>\n      <td>17</td>\n      <td>Fisika</td>\n      <td>76</td>\n      <td>perempuan</td>\n      <td>12C</td>\n    </tr>\n    <tr>\n      <th>19</th>\n      <td>20</td>\n      <td>Ekonomi</td>\n      <td>53</td>\n      <td>perempuan</td>\n      <td>12B</td>\n    </tr>\n  </tbody>\n</table>\n</div>"
     },
     "metadata": {}
    },
    {
     "output_type": "display_data",
     "data": {
      "text/plain": "   siswa_id pelajaran  nilai jenis_kelamin kelas\n6         7     Kimia     59     laki-laki   12A",
      "text/html": "<div>\n<style scoped>\n    .dataframe tbody tr th:only-of-type {\n        vertical-align: middle;\n    }\n\n    .dataframe tbody tr th {\n        vertical-align: top;\n    }\n\n    .dataframe thead th {\n        text-align: right;\n    }\n</style>\n<table border=\"1\" class=\"dataframe\">\n  <thead>\n    <tr style=\"text-align: right;\">\n      <th></th>\n      <th>siswa_id</th>\n      <th>pelajaran</th>\n      <th>nilai</th>\n      <th>jenis_kelamin</th>\n      <th>kelas</th>\n    </tr>\n  </thead>\n  <tbody>\n    <tr>\n      <th>6</th>\n      <td>7</td>\n      <td>Kimia</td>\n      <td>59</td>\n      <td>laki-laki</td>\n      <td>12A</td>\n    </tr>\n  </tbody>\n</table>\n</div>"
     },
     "metadata": {}
    },
    {
     "output_type": "display_data",
     "data": {
      "text/plain": "    siswa_id pelajaran  nilai jenis_kelamin kelas\n16        17    Fisika     76     perempuan   12C",
      "text/html": "<div>\n<style scoped>\n    .dataframe tbody tr th:only-of-type {\n        vertical-align: middle;\n    }\n\n    .dataframe tbody tr th {\n        vertical-align: top;\n    }\n\n    .dataframe thead th {\n        text-align: right;\n    }\n</style>\n<table border=\"1\" class=\"dataframe\">\n  <thead>\n    <tr style=\"text-align: right;\">\n      <th></th>\n      <th>siswa_id</th>\n      <th>pelajaran</th>\n      <th>nilai</th>\n      <th>jenis_kelamin</th>\n      <th>kelas</th>\n    </tr>\n  </thead>\n  <tbody>\n    <tr>\n      <th>16</th>\n      <td>17</td>\n      <td>Fisika</td>\n      <td>76</td>\n      <td>perempuan</td>\n      <td>12C</td>\n    </tr>\n  </tbody>\n</table>\n</div>"
     },
     "metadata": {}
    }
   ],
   "source": [
    "# <h2>Soal 2: Filter DataFrame Dengan Boolean</h2>\n",
    "\n",
    "# 1. Tampilkan semua data siswa pada mata pelajaran Ekonomi dan Fisika\n",
    "# 2. Tampilkan semua data siswa yang mempunyai nilai lebih dari 50 di mata pelajaran Kimia \n",
    "# 3. Tampilkan semua data yang mempunyai nilai lebih dari 70, berjnis kelamin perempuan dan di kelas 12C\n",
    "matkul_eko=df.pelajaran=='Ekonomi'\n",
    "matkul_Fis=df.pelajaran=='Fisika'\n",
    "display(df[(matkul_eko | matkul_Fis)])\n",
    "matkul_kim=df.pelajaran=='Kimia'\n",
    "nilai_lebih=df.nilai > 50\n",
    "display(df[matkul_kim & nilai_lebih])\n",
    "nilai_lebih_70=df.nilai>70\n",
    "cewek=df.jenis_kelamin=='perempuan'\n",
    "kelas=df.kelas=='12C'\n",
    "display(df[(nilai_lebih_70 & (cewek & kelas))])\n"
   ]
  },
  {
   "cell_type": "code",
   "execution_count": 62,
   "metadata": {},
   "outputs": [
    {
     "output_type": "display_data",
     "data": {
      "text/plain": "'setelah melakukan proses normalisasi: '"
     },
     "metadata": {}
    },
    {
     "output_type": "display_data",
     "data": {
      "text/plain": "    siswa_id   pelajaran     nilai jenis_kelamin kelas\n0          1     Biologi  1.000000     perempuan   12B\n1          2      Fisika  0.076087     perempuan   12D\n2          3     Ekonomi  0.358696     laki-laki   12C\n3          4     Ekonomi  0.206522     perempuan   12B\n4          5      Fisika  0.608696     perempuan   12D\n5          6      Fisika  0.336957     laki-laki   12C\n6          7       Kimia  0.597826     laki-laki   12A\n7          8     Geologi  0.576087     perempuan   12A\n8          9  Matematika  0.152174     perempuan   12B\n9         10     Geologi  0.217391     laki-laki   12D\n10        11     Geologi  0.891304     laki-laki   12B\n11        12     Ekonomi  0.597826     perempuan   12D\n12        13     Ekonomi  0.282609     laki-laki   12C\n13        14       Kimia  0.086957     perempuan   12B\n14        15      Fisika  0.402174     laki-laki   12A\n15        16      Fisika  0.467391     laki-laki   12C\n16        17      Fisika  0.782609     perempuan   12C\n17        18     Geologi  0.000000     laki-laki   12D\n18        19  Matematika  0.391304     perempuan   12C\n19        20     Ekonomi  0.532609     perempuan   12B",
      "text/html": "<div>\n<style scoped>\n    .dataframe tbody tr th:only-of-type {\n        vertical-align: middle;\n    }\n\n    .dataframe tbody tr th {\n        vertical-align: top;\n    }\n\n    .dataframe thead th {\n        text-align: right;\n    }\n</style>\n<table border=\"1\" class=\"dataframe\">\n  <thead>\n    <tr style=\"text-align: right;\">\n      <th></th>\n      <th>siswa_id</th>\n      <th>pelajaran</th>\n      <th>nilai</th>\n      <th>jenis_kelamin</th>\n      <th>kelas</th>\n    </tr>\n  </thead>\n  <tbody>\n    <tr>\n      <th>0</th>\n      <td>1</td>\n      <td>Biologi</td>\n      <td>1.000000</td>\n      <td>perempuan</td>\n      <td>12B</td>\n    </tr>\n    <tr>\n      <th>1</th>\n      <td>2</td>\n      <td>Fisika</td>\n      <td>0.076087</td>\n      <td>perempuan</td>\n      <td>12D</td>\n    </tr>\n    <tr>\n      <th>2</th>\n      <td>3</td>\n      <td>Ekonomi</td>\n      <td>0.358696</td>\n      <td>laki-laki</td>\n      <td>12C</td>\n    </tr>\n    <tr>\n      <th>3</th>\n      <td>4</td>\n      <td>Ekonomi</td>\n      <td>0.206522</td>\n      <td>perempuan</td>\n      <td>12B</td>\n    </tr>\n    <tr>\n      <th>4</th>\n      <td>5</td>\n      <td>Fisika</td>\n      <td>0.608696</td>\n      <td>perempuan</td>\n      <td>12D</td>\n    </tr>\n    <tr>\n      <th>5</th>\n      <td>6</td>\n      <td>Fisika</td>\n      <td>0.336957</td>\n      <td>laki-laki</td>\n      <td>12C</td>\n    </tr>\n    <tr>\n      <th>6</th>\n      <td>7</td>\n      <td>Kimia</td>\n      <td>0.597826</td>\n      <td>laki-laki</td>\n      <td>12A</td>\n    </tr>\n    <tr>\n      <th>7</th>\n      <td>8</td>\n      <td>Geologi</td>\n      <td>0.576087</td>\n      <td>perempuan</td>\n      <td>12A</td>\n    </tr>\n    <tr>\n      <th>8</th>\n      <td>9</td>\n      <td>Matematika</td>\n      <td>0.152174</td>\n      <td>perempuan</td>\n      <td>12B</td>\n    </tr>\n    <tr>\n      <th>9</th>\n      <td>10</td>\n      <td>Geologi</td>\n      <td>0.217391</td>\n      <td>laki-laki</td>\n      <td>12D</td>\n    </tr>\n    <tr>\n      <th>10</th>\n      <td>11</td>\n      <td>Geologi</td>\n      <td>0.891304</td>\n      <td>laki-laki</td>\n      <td>12B</td>\n    </tr>\n    <tr>\n      <th>11</th>\n      <td>12</td>\n      <td>Ekonomi</td>\n      <td>0.597826</td>\n      <td>perempuan</td>\n      <td>12D</td>\n    </tr>\n    <tr>\n      <th>12</th>\n      <td>13</td>\n      <td>Ekonomi</td>\n      <td>0.282609</td>\n      <td>laki-laki</td>\n      <td>12C</td>\n    </tr>\n    <tr>\n      <th>13</th>\n      <td>14</td>\n      <td>Kimia</td>\n      <td>0.086957</td>\n      <td>perempuan</td>\n      <td>12B</td>\n    </tr>\n    <tr>\n      <th>14</th>\n      <td>15</td>\n      <td>Fisika</td>\n      <td>0.402174</td>\n      <td>laki-laki</td>\n      <td>12A</td>\n    </tr>\n    <tr>\n      <th>15</th>\n      <td>16</td>\n      <td>Fisika</td>\n      <td>0.467391</td>\n      <td>laki-laki</td>\n      <td>12C</td>\n    </tr>\n    <tr>\n      <th>16</th>\n      <td>17</td>\n      <td>Fisika</td>\n      <td>0.782609</td>\n      <td>perempuan</td>\n      <td>12C</td>\n    </tr>\n    <tr>\n      <th>17</th>\n      <td>18</td>\n      <td>Geologi</td>\n      <td>0.000000</td>\n      <td>laki-laki</td>\n      <td>12D</td>\n    </tr>\n    <tr>\n      <th>18</th>\n      <td>19</td>\n      <td>Matematika</td>\n      <td>0.391304</td>\n      <td>perempuan</td>\n      <td>12C</td>\n    </tr>\n    <tr>\n      <th>19</th>\n      <td>20</td>\n      <td>Ekonomi</td>\n      <td>0.532609</td>\n      <td>perempuan</td>\n      <td>12B</td>\n    </tr>\n  </tbody>\n</table>\n</div>"
     },
     "metadata": {}
    }
   ],
   "source": [
    "# <h2>Soal 3: Data Transformation</h2>\n",
    "\n",
    "# lakukan data transformasi terhadap column 'nilai' dengan fungsi transformasi, berikut rumus dari normalisasi\n",
    "\n",
    "# ![alt text](https://drive.google.com/uc?id=1wed-EbRSTA0JP1ceDp6lcKBqH2yJ4aa3)\n",
    "def normalisasi(x):\n",
    "    return (x-x.min())/(x.max()-x.min())\n",
    "df['nilai']=normalisasi(df['nilai'])\n",
    "display('setelah melakukan proses normalisasi: ',df)"
   ]
  },
  {
   "cell_type": "code",
   "execution_count": null,
   "metadata": {},
   "outputs": [],
   "source": []
  }
 ]
}