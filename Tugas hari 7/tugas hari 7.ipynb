{
 "metadata": {
  "language_info": {
   "codemirror_mode": {
    "name": "ipython",
    "version": 3
   },
   "file_extension": ".py",
   "mimetype": "text/x-python",
   "name": "python",
   "nbconvert_exporter": "python",
   "pygments_lexer": "ipython3",
   "version": "3.9.2"
  },
  "orig_nbformat": 2,
  "kernelspec": {
   "name": "python392jvsc74a57bd06cbb41571b20674ffee661aa3e8e8b885ec56c497d88337beffcf280b455b3f0",
   "display_name": "Python 3.9.2 64-bit"
  },
  "metadata": {
   "interpreter": {
    "hash": "6cbb41571b20674ffee661aa3e8e8b885ec56c497d88337beffcf280b455b3f0"
   }
  }
 },
 "nbformat": 4,
 "nbformat_minor": 2,
 "cells": [
  {
   "cell_type": "code",
   "execution_count": 70,
   "metadata": {},
   "outputs": [
    {
     "output_type": "display_data",
     "data": {
      "text/plain": "    siswa_id   pelajaran  nilai jenis_kelamin kelas\n0          1      Fisika     15     laki-laki   12C\n1          2     Biologi     16     laki-laki   12C\n2          3     Geologi     56     perempuan   12D\n3          4     Biologi      2     laki-laki   12D\n4          5  Matematika     84     perempuan   12C\n5          6     Geologi     87     perempuan   12B\n6          7       Kimia     88     perempuan   12B\n7          8     Ekonomi     24     laki-laki   12C\n8          9       Kimia      5     laki-laki   12C\n9         10     Ekonomi     45     laki-laki   12D\n10        11     Biologi     23     laki-laki   12B\n11        12      Fisika     89     perempuan   12B\n12        13     Ekonomi     12     perempuan   12B\n13        14     Ekonomi     21     laki-laki   12D\n14        15     Geologi     95     laki-laki   12C\n15        16     Geologi     54     perempuan   12D\n16        17      Fisika     74     laki-laki   12B\n17        18      Fisika      8     laki-laki   12C\n18        19      Fisika     99     perempuan   12D\n19        20       Kimia     65     laki-laki   12D",
      "text/html": "<div>\n<style scoped>\n    .dataframe tbody tr th:only-of-type {\n        vertical-align: middle;\n    }\n\n    .dataframe tbody tr th {\n        vertical-align: top;\n    }\n\n    .dataframe thead th {\n        text-align: right;\n    }\n</style>\n<table border=\"1\" class=\"dataframe\">\n  <thead>\n    <tr style=\"text-align: right;\">\n      <th></th>\n      <th>siswa_id</th>\n      <th>pelajaran</th>\n      <th>nilai</th>\n      <th>jenis_kelamin</th>\n      <th>kelas</th>\n    </tr>\n  </thead>\n  <tbody>\n    <tr>\n      <th>0</th>\n      <td>1</td>\n      <td>Fisika</td>\n      <td>15</td>\n      <td>laki-laki</td>\n      <td>12C</td>\n    </tr>\n    <tr>\n      <th>1</th>\n      <td>2</td>\n      <td>Biologi</td>\n      <td>16</td>\n      <td>laki-laki</td>\n      <td>12C</td>\n    </tr>\n    <tr>\n      <th>2</th>\n      <td>3</td>\n      <td>Geologi</td>\n      <td>56</td>\n      <td>perempuan</td>\n      <td>12D</td>\n    </tr>\n    <tr>\n      <th>3</th>\n      <td>4</td>\n      <td>Biologi</td>\n      <td>2</td>\n      <td>laki-laki</td>\n      <td>12D</td>\n    </tr>\n    <tr>\n      <th>4</th>\n      <td>5</td>\n      <td>Matematika</td>\n      <td>84</td>\n      <td>perempuan</td>\n      <td>12C</td>\n    </tr>\n    <tr>\n      <th>5</th>\n      <td>6</td>\n      <td>Geologi</td>\n      <td>87</td>\n      <td>perempuan</td>\n      <td>12B</td>\n    </tr>\n    <tr>\n      <th>6</th>\n      <td>7</td>\n      <td>Kimia</td>\n      <td>88</td>\n      <td>perempuan</td>\n      <td>12B</td>\n    </tr>\n    <tr>\n      <th>7</th>\n      <td>8</td>\n      <td>Ekonomi</td>\n      <td>24</td>\n      <td>laki-laki</td>\n      <td>12C</td>\n    </tr>\n    <tr>\n      <th>8</th>\n      <td>9</td>\n      <td>Kimia</td>\n      <td>5</td>\n      <td>laki-laki</td>\n      <td>12C</td>\n    </tr>\n    <tr>\n      <th>9</th>\n      <td>10</td>\n      <td>Ekonomi</td>\n      <td>45</td>\n      <td>laki-laki</td>\n      <td>12D</td>\n    </tr>\n    <tr>\n      <th>10</th>\n      <td>11</td>\n      <td>Biologi</td>\n      <td>23</td>\n      <td>laki-laki</td>\n      <td>12B</td>\n    </tr>\n    <tr>\n      <th>11</th>\n      <td>12</td>\n      <td>Fisika</td>\n      <td>89</td>\n      <td>perempuan</td>\n      <td>12B</td>\n    </tr>\n    <tr>\n      <th>12</th>\n      <td>13</td>\n      <td>Ekonomi</td>\n      <td>12</td>\n      <td>perempuan</td>\n      <td>12B</td>\n    </tr>\n    <tr>\n      <th>13</th>\n      <td>14</td>\n      <td>Ekonomi</td>\n      <td>21</td>\n      <td>laki-laki</td>\n      <td>12D</td>\n    </tr>\n    <tr>\n      <th>14</th>\n      <td>15</td>\n      <td>Geologi</td>\n      <td>95</td>\n      <td>laki-laki</td>\n      <td>12C</td>\n    </tr>\n    <tr>\n      <th>15</th>\n      <td>16</td>\n      <td>Geologi</td>\n      <td>54</td>\n      <td>perempuan</td>\n      <td>12D</td>\n    </tr>\n    <tr>\n      <th>16</th>\n      <td>17</td>\n      <td>Fisika</td>\n      <td>74</td>\n      <td>laki-laki</td>\n      <td>12B</td>\n    </tr>\n    <tr>\n      <th>17</th>\n      <td>18</td>\n      <td>Fisika</td>\n      <td>8</td>\n      <td>laki-laki</td>\n      <td>12C</td>\n    </tr>\n    <tr>\n      <th>18</th>\n      <td>19</td>\n      <td>Fisika</td>\n      <td>99</td>\n      <td>perempuan</td>\n      <td>12D</td>\n    </tr>\n    <tr>\n      <th>19</th>\n      <td>20</td>\n      <td>Kimia</td>\n      <td>65</td>\n      <td>laki-laki</td>\n      <td>12D</td>\n    </tr>\n  </tbody>\n</table>\n</div>"
     },
     "metadata": {}
    }
   ],
   "source": [
    "# Persiapan membuat data\n",
    "import pandas as pd\n",
    "import random\n",
    "\n",
    "pelajaran = ['Matematika', 'Fisika', 'Biologi', 'Kimia', 'Geologi', 'Ekonomi']\n",
    "kelas = ['12A', '12B', '12C', '12D']\n",
    "\n",
    "hasil_nilai = {\n",
    "    'siswa_id' : range(1, 21),\n",
    "    'pelajaran' : [random.choice(pelajaran) for i in range(20)],\n",
    "    'nilai' : [random.choice(range(0, 100)) for i in range(20)],\n",
    "    'jenis_kelamin' : [random.choice(['laki-laki', 'perempuan']) for i in range(20)],\n",
    "    'kelas' : [random.choice(kelas) for i in range(20)]\n",
    "}\n",
    "\n",
    "df = pd.DataFrame(hasil_nilai)\n",
    "display(df)"
   ]
  },
  {
   "cell_type": "code",
   "execution_count": 71,
   "metadata": {},
   "outputs": [
    {
     "output_type": "display_data",
     "data": {
      "text/plain": "    nilai kelas\n0      15   12C\n1      16   12C\n2      56   12D\n3       2   12D\n4      84   12C\n5      87   12B\n6      88   12B\n7      24   12C\n8       5   12C\n9      45   12D\n10     23   12B\n11     89   12B\n12     12   12B\n13     21   12D\n14     95   12C\n15     54   12D\n16     74   12B\n17      8   12C\n18     99   12D\n19     65   12D",
      "text/html": "<div>\n<style scoped>\n    .dataframe tbody tr th:only-of-type {\n        vertical-align: middle;\n    }\n\n    .dataframe tbody tr th {\n        vertical-align: top;\n    }\n\n    .dataframe thead th {\n        text-align: right;\n    }\n</style>\n<table border=\"1\" class=\"dataframe\">\n  <thead>\n    <tr style=\"text-align: right;\">\n      <th></th>\n      <th>nilai</th>\n      <th>kelas</th>\n    </tr>\n  </thead>\n  <tbody>\n    <tr>\n      <th>0</th>\n      <td>15</td>\n      <td>12C</td>\n    </tr>\n    <tr>\n      <th>1</th>\n      <td>16</td>\n      <td>12C</td>\n    </tr>\n    <tr>\n      <th>2</th>\n      <td>56</td>\n      <td>12D</td>\n    </tr>\n    <tr>\n      <th>3</th>\n      <td>2</td>\n      <td>12D</td>\n    </tr>\n    <tr>\n      <th>4</th>\n      <td>84</td>\n      <td>12C</td>\n    </tr>\n    <tr>\n      <th>5</th>\n      <td>87</td>\n      <td>12B</td>\n    </tr>\n    <tr>\n      <th>6</th>\n      <td>88</td>\n      <td>12B</td>\n    </tr>\n    <tr>\n      <th>7</th>\n      <td>24</td>\n      <td>12C</td>\n    </tr>\n    <tr>\n      <th>8</th>\n      <td>5</td>\n      <td>12C</td>\n    </tr>\n    <tr>\n      <th>9</th>\n      <td>45</td>\n      <td>12D</td>\n    </tr>\n    <tr>\n      <th>10</th>\n      <td>23</td>\n      <td>12B</td>\n    </tr>\n    <tr>\n      <th>11</th>\n      <td>89</td>\n      <td>12B</td>\n    </tr>\n    <tr>\n      <th>12</th>\n      <td>12</td>\n      <td>12B</td>\n    </tr>\n    <tr>\n      <th>13</th>\n      <td>21</td>\n      <td>12D</td>\n    </tr>\n    <tr>\n      <th>14</th>\n      <td>95</td>\n      <td>12C</td>\n    </tr>\n    <tr>\n      <th>15</th>\n      <td>54</td>\n      <td>12D</td>\n    </tr>\n    <tr>\n      <th>16</th>\n      <td>74</td>\n      <td>12B</td>\n    </tr>\n    <tr>\n      <th>17</th>\n      <td>8</td>\n      <td>12C</td>\n    </tr>\n    <tr>\n      <th>18</th>\n      <td>99</td>\n      <td>12D</td>\n    </tr>\n    <tr>\n      <th>19</th>\n      <td>65</td>\n      <td>12D</td>\n    </tr>\n  </tbody>\n</table>\n</div>"
     },
     "metadata": {}
    },
    {
     "output_type": "display_data",
     "data": {
      "text/plain": "   pelajaran  nilai\n5    Geologi     87\n6      Kimia     88\n7    Ekonomi     24\n8      Kimia      5\n9    Ekonomi     45\n10   Biologi     23",
      "text/html": "<div>\n<style scoped>\n    .dataframe tbody tr th:only-of-type {\n        vertical-align: middle;\n    }\n\n    .dataframe tbody tr th {\n        vertical-align: top;\n    }\n\n    .dataframe thead th {\n        text-align: right;\n    }\n</style>\n<table border=\"1\" class=\"dataframe\">\n  <thead>\n    <tr style=\"text-align: right;\">\n      <th></th>\n      <th>pelajaran</th>\n      <th>nilai</th>\n    </tr>\n  </thead>\n  <tbody>\n    <tr>\n      <th>5</th>\n      <td>Geologi</td>\n      <td>87</td>\n    </tr>\n    <tr>\n      <th>6</th>\n      <td>Kimia</td>\n      <td>88</td>\n    </tr>\n    <tr>\n      <th>7</th>\n      <td>Ekonomi</td>\n      <td>24</td>\n    </tr>\n    <tr>\n      <th>8</th>\n      <td>Kimia</td>\n      <td>5</td>\n    </tr>\n    <tr>\n      <th>9</th>\n      <td>Ekonomi</td>\n      <td>45</td>\n    </tr>\n    <tr>\n      <th>10</th>\n      <td>Biologi</td>\n      <td>23</td>\n    </tr>\n  </tbody>\n</table>\n</div>"
     },
     "metadata": {}
    }
   ],
   "source": [
    "# <h2>Soal 1: Indexing</h2>\n",
    "\n",
    "# 1. Lakukan indexing terhadap dataframe untuk mengakses column nilai dan kelas saja\n",
    "# 2. Lakukan indexing terhadap dataframe untuk mengakses row 5 sampai 10 beserta column pelajaran dan nilai\n",
    "# jawab\n",
    "col_kelas=df.loc[0:,['nilai','kelas']]\n",
    "display(col_kelas)\n",
    "baris_5_10=df.iloc[5:11,[1,2]]\n",
    "display(baris_5_10)"
   ]
  },
  {
   "cell_type": "code",
   "execution_count": 67,
   "metadata": {},
   "outputs": [
    {
     "output_type": "display_data",
     "data": {
      "text/plain": "    siswa_id pelajaran  nilai jenis_kelamin kelas\n2          3    Fisika     44     laki-laki   12A\n7          8    Fisika     57     laki-laki   12A\n8          9   Ekonomi      1     perempuan   12C\n13        14   Ekonomi     37     laki-laki   12A\n17        18   Ekonomi     63     laki-laki   12C\n18        19    Fisika     55     perempuan   12B",
      "text/html": "<div>\n<style scoped>\n    .dataframe tbody tr th:only-of-type {\n        vertical-align: middle;\n    }\n\n    .dataframe tbody tr th {\n        vertical-align: top;\n    }\n\n    .dataframe thead th {\n        text-align: right;\n    }\n</style>\n<table border=\"1\" class=\"dataframe\">\n  <thead>\n    <tr style=\"text-align: right;\">\n      <th></th>\n      <th>siswa_id</th>\n      <th>pelajaran</th>\n      <th>nilai</th>\n      <th>jenis_kelamin</th>\n      <th>kelas</th>\n    </tr>\n  </thead>\n  <tbody>\n    <tr>\n      <th>2</th>\n      <td>3</td>\n      <td>Fisika</td>\n      <td>44</td>\n      <td>laki-laki</td>\n      <td>12A</td>\n    </tr>\n    <tr>\n      <th>7</th>\n      <td>8</td>\n      <td>Fisika</td>\n      <td>57</td>\n      <td>laki-laki</td>\n      <td>12A</td>\n    </tr>\n    <tr>\n      <th>8</th>\n      <td>9</td>\n      <td>Ekonomi</td>\n      <td>1</td>\n      <td>perempuan</td>\n      <td>12C</td>\n    </tr>\n    <tr>\n      <th>13</th>\n      <td>14</td>\n      <td>Ekonomi</td>\n      <td>37</td>\n      <td>laki-laki</td>\n      <td>12A</td>\n    </tr>\n    <tr>\n      <th>17</th>\n      <td>18</td>\n      <td>Ekonomi</td>\n      <td>63</td>\n      <td>laki-laki</td>\n      <td>12C</td>\n    </tr>\n    <tr>\n      <th>18</th>\n      <td>19</td>\n      <td>Fisika</td>\n      <td>55</td>\n      <td>perempuan</td>\n      <td>12B</td>\n    </tr>\n  </tbody>\n</table>\n</div>"
     },
     "metadata": {}
    },
    {
     "output_type": "display_data",
     "data": {
      "text/plain": "    siswa_id pelajaran  nilai jenis_kelamin kelas\n14        15     Kimia     99     laki-laki   12D",
      "text/html": "<div>\n<style scoped>\n    .dataframe tbody tr th:only-of-type {\n        vertical-align: middle;\n    }\n\n    .dataframe tbody tr th {\n        vertical-align: top;\n    }\n\n    .dataframe thead th {\n        text-align: right;\n    }\n</style>\n<table border=\"1\" class=\"dataframe\">\n  <thead>\n    <tr style=\"text-align: right;\">\n      <th></th>\n      <th>siswa_id</th>\n      <th>pelajaran</th>\n      <th>nilai</th>\n      <th>jenis_kelamin</th>\n      <th>kelas</th>\n    </tr>\n  </thead>\n  <tbody>\n    <tr>\n      <th>14</th>\n      <td>15</td>\n      <td>Kimia</td>\n      <td>99</td>\n      <td>laki-laki</td>\n      <td>12D</td>\n    </tr>\n  </tbody>\n</table>\n</div>"
     },
     "metadata": {}
    },
    {
     "output_type": "display_data",
     "data": {
      "text/plain": "Empty DataFrame\nColumns: [siswa_id, pelajaran, nilai, jenis_kelamin, kelas]\nIndex: []",
      "text/html": "<div>\n<style scoped>\n    .dataframe tbody tr th:only-of-type {\n        vertical-align: middle;\n    }\n\n    .dataframe tbody tr th {\n        vertical-align: top;\n    }\n\n    .dataframe thead th {\n        text-align: right;\n    }\n</style>\n<table border=\"1\" class=\"dataframe\">\n  <thead>\n    <tr style=\"text-align: right;\">\n      <th></th>\n      <th>siswa_id</th>\n      <th>pelajaran</th>\n      <th>nilai</th>\n      <th>jenis_kelamin</th>\n      <th>kelas</th>\n    </tr>\n  </thead>\n  <tbody>\n  </tbody>\n</table>\n</div>"
     },
     "metadata": {}
    }
   ],
   "source": [
    "# <h2>Soal 2: Filter DataFrame Dengan Boolean</h2>\n",
    "\n",
    "# 1. Tampilkan semua data siswa pada mata pelajaran Ekonomi dan Fisika\n",
    "# 2. Tampilkan semua data siswa yang mempunyai nilai lebih dari 50 di mata pelajaran Kimia \n",
    "# 3. Tampilkan semua data yang mempunyai nilai lebih dari 70, berjnis kelamin perempuan dan di kelas 12C\n",
    "matkul_eko=df.pelajaran=='Ekonomi'\n",
    "matkul_Fis=df.pelajaran=='Fisika'\n",
    "display(df[(matkul_eko | matkul_Fis)])\n",
    "matkul_kim=df.pelajaran=='Kimia'\n",
    "nilai_lebih=df.nilai > 50\n",
    "display(df[matkul_kim & nilai_lebih])\n",
    "nilai_lebih_70=df.nilai>70\n",
    "cewek=df.jenis_kelamin=='perempuan'\n",
    "kelas=df.kelas=='12C'\n",
    "display(df[(nilai_lebih_70 & (cewek & kelas))])\n"
   ]
  },
  {
   "cell_type": "code",
   "execution_count": 73,
   "metadata": {},
   "outputs": [
    {
     "output_type": "display_data",
     "data": {
      "text/plain": "'setelah melakukan proses normalisasi: '"
     },
     "metadata": {}
    },
    {
     "output_type": "display_data",
     "data": {
      "text/plain": "    siswa_id   pelajaran     nilai jenis_kelamin kelas\n0          1      Fisika  0.134021     laki-laki   12C\n1          2     Biologi  0.144330     laki-laki   12C\n2          3     Geologi  0.556701     perempuan   12D\n3          4     Biologi  0.000000     laki-laki   12D\n4          5  Matematika  0.845361     perempuan   12C\n5          6     Geologi  0.876289     perempuan   12B\n6          7       Kimia  0.886598     perempuan   12B\n7          8     Ekonomi  0.226804     laki-laki   12C\n8          9       Kimia  0.030928     laki-laki   12C\n9         10     Ekonomi  0.443299     laki-laki   12D\n10        11     Biologi  0.216495     laki-laki   12B\n11        12      Fisika  0.896907     perempuan   12B\n12        13     Ekonomi  0.103093     perempuan   12B\n13        14     Ekonomi  0.195876     laki-laki   12D\n14        15     Geologi  0.958763     laki-laki   12C\n15        16     Geologi  0.536082     perempuan   12D\n16        17      Fisika  0.742268     laki-laki   12B\n17        18      Fisika  0.061856     laki-laki   12C\n18        19      Fisika  1.000000     perempuan   12D\n19        20       Kimia  0.649485     laki-laki   12D",
      "text/html": "<div>\n<style scoped>\n    .dataframe tbody tr th:only-of-type {\n        vertical-align: middle;\n    }\n\n    .dataframe tbody tr th {\n        vertical-align: top;\n    }\n\n    .dataframe thead th {\n        text-align: right;\n    }\n</style>\n<table border=\"1\" class=\"dataframe\">\n  <thead>\n    <tr style=\"text-align: right;\">\n      <th></th>\n      <th>siswa_id</th>\n      <th>pelajaran</th>\n      <th>nilai</th>\n      <th>jenis_kelamin</th>\n      <th>kelas</th>\n    </tr>\n  </thead>\n  <tbody>\n    <tr>\n      <th>0</th>\n      <td>1</td>\n      <td>Fisika</td>\n      <td>0.134021</td>\n      <td>laki-laki</td>\n      <td>12C</td>\n    </tr>\n    <tr>\n      <th>1</th>\n      <td>2</td>\n      <td>Biologi</td>\n      <td>0.144330</td>\n      <td>laki-laki</td>\n      <td>12C</td>\n    </tr>\n    <tr>\n      <th>2</th>\n      <td>3</td>\n      <td>Geologi</td>\n      <td>0.556701</td>\n      <td>perempuan</td>\n      <td>12D</td>\n    </tr>\n    <tr>\n      <th>3</th>\n      <td>4</td>\n      <td>Biologi</td>\n      <td>0.000000</td>\n      <td>laki-laki</td>\n      <td>12D</td>\n    </tr>\n    <tr>\n      <th>4</th>\n      <td>5</td>\n      <td>Matematika</td>\n      <td>0.845361</td>\n      <td>perempuan</td>\n      <td>12C</td>\n    </tr>\n    <tr>\n      <th>5</th>\n      <td>6</td>\n      <td>Geologi</td>\n      <td>0.876289</td>\n      <td>perempuan</td>\n      <td>12B</td>\n    </tr>\n    <tr>\n      <th>6</th>\n      <td>7</td>\n      <td>Kimia</td>\n      <td>0.886598</td>\n      <td>perempuan</td>\n      <td>12B</td>\n    </tr>\n    <tr>\n      <th>7</th>\n      <td>8</td>\n      <td>Ekonomi</td>\n      <td>0.226804</td>\n      <td>laki-laki</td>\n      <td>12C</td>\n    </tr>\n    <tr>\n      <th>8</th>\n      <td>9</td>\n      <td>Kimia</td>\n      <td>0.030928</td>\n      <td>laki-laki</td>\n      <td>12C</td>\n    </tr>\n    <tr>\n      <th>9</th>\n      <td>10</td>\n      <td>Ekonomi</td>\n      <td>0.443299</td>\n      <td>laki-laki</td>\n      <td>12D</td>\n    </tr>\n    <tr>\n      <th>10</th>\n      <td>11</td>\n      <td>Biologi</td>\n      <td>0.216495</td>\n      <td>laki-laki</td>\n      <td>12B</td>\n    </tr>\n    <tr>\n      <th>11</th>\n      <td>12</td>\n      <td>Fisika</td>\n      <td>0.896907</td>\n      <td>perempuan</td>\n      <td>12B</td>\n    </tr>\n    <tr>\n      <th>12</th>\n      <td>13</td>\n      <td>Ekonomi</td>\n      <td>0.103093</td>\n      <td>perempuan</td>\n      <td>12B</td>\n    </tr>\n    <tr>\n      <th>13</th>\n      <td>14</td>\n      <td>Ekonomi</td>\n      <td>0.195876</td>\n      <td>laki-laki</td>\n      <td>12D</td>\n    </tr>\n    <tr>\n      <th>14</th>\n      <td>15</td>\n      <td>Geologi</td>\n      <td>0.958763</td>\n      <td>laki-laki</td>\n      <td>12C</td>\n    </tr>\n    <tr>\n      <th>15</th>\n      <td>16</td>\n      <td>Geologi</td>\n      <td>0.536082</td>\n      <td>perempuan</td>\n      <td>12D</td>\n    </tr>\n    <tr>\n      <th>16</th>\n      <td>17</td>\n      <td>Fisika</td>\n      <td>0.742268</td>\n      <td>laki-laki</td>\n      <td>12B</td>\n    </tr>\n    <tr>\n      <th>17</th>\n      <td>18</td>\n      <td>Fisika</td>\n      <td>0.061856</td>\n      <td>laki-laki</td>\n      <td>12C</td>\n    </tr>\n    <tr>\n      <th>18</th>\n      <td>19</td>\n      <td>Fisika</td>\n      <td>1.000000</td>\n      <td>perempuan</td>\n      <td>12D</td>\n    </tr>\n    <tr>\n      <th>19</th>\n      <td>20</td>\n      <td>Kimia</td>\n      <td>0.649485</td>\n      <td>laki-laki</td>\n      <td>12D</td>\n    </tr>\n  </tbody>\n</table>\n</div>"
     },
     "metadata": {}
    }
   ],
   "source": [
    "# <h2>Soal 3: Data Transformation</h2>\n",
    "\n",
    "# lakukan data transformasi terhadap column 'nilai' dengan fungsi transformasi, berikut rumus dari normalisasi\n",
    "\n",
    "# ![alt text](https://drive.google.com/uc?id=1wed-EbRSTA0JP1ceDp6lcKBqH2yJ4aa3)\n",
    "dfnew=df.copy()\n",
    "# display(dfnew)\n",
    "def normalisasi(x):\n",
    "    return (x-x.min())/(x.max()-x.min())\n",
    "dfnew['nilai']=normalisasi(dfnew['nilai'])\n",
    "display('setelah melakukan proses normalisasi: ',dfnew)"
   ]
  },
  {
   "cell_type": "code",
   "execution_count": null,
   "metadata": {},
   "outputs": [],
   "source": []
  }
 ]
}