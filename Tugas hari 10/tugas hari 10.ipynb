{
 "metadata": {
  "language_info": {
   "codemirror_mode": {
    "name": "ipython",
    "version": 3
   },
   "file_extension": ".py",
   "mimetype": "text/x-python",
   "name": "python",
   "nbconvert_exporter": "python",
   "pygments_lexer": "ipython3",
   "version": "3.9.2"
  },
  "orig_nbformat": 2,
  "kernelspec": {
   "name": "python392jvsc74a57bd06cbb41571b20674ffee661aa3e8e8b885ec56c497d88337beffcf280b455b3f0",
   "display_name": "Python 3.9.2 64-bit"
  },
  "metadata": {
   "interpreter": {
    "hash": "6cbb41571b20674ffee661aa3e8e8b885ec56c497d88337beffcf280b455b3f0"
   }
  }
 },
 "nbformat": 4,
 "nbformat_minor": 2,
 "cells": [
  {
   "cell_type": "code",
   "execution_count": null,
   "metadata": {},
   "outputs": [],
   "source": [
    "<h2>Soal 1: Penggabungan Data</h2>\n",
    "\n",
    "- Sebutkan perbedaan antara full outer join, inner join, dan left join\n",
    "jawaban\n",
    "-Full outer joian\n",
    "\n",
    "Full Outer Join menghasilkan gabungan index bari dari setiap data yang di gabung.\n",
    "Full Outer Join menggabungan pula column yang berbeda\n",
    "Memberikan nilai null untuk nilai column yang tidak di miliki oleh suatu index tertentu.\n",
    "\n",
    "-iner join\n",
    "Inner join ini akan menggabungkan data antara nilai key/referensi yang beririsan.\n",
    "\n",
    "- left join\n",
    "\n",
    "Left Outer Join menghasilkan seluruh data dari data yang kiri ditambah data kanan yang memiliki nilai key yang sama dengan data dari kiri.\n"
   ]
  },
  {
   "cell_type": "code",
   "execution_count": 20,
   "metadata": {},
   "outputs": [
    {
     "output_type": "stream",
     "name": "stdout",
     "text": [
      "Jumlah Dimensi data names1881.csv : (1935, 3)\nJumlah Baris data names1981.csv : (19455, 3)\n"
     ]
    },
    {
     "output_type": "display_data",
     "data": {
      "text/plain": "           Name Gender  Count\n0          Mary      F   6919\n1          Anna      F   2698\n2          Emma      F   2034\n3     Elizabeth      F   1852\n4      Margaret      F   1658\n...         ...    ...    ...\n1930     Wiliam      M      5\n1931     Wilton      M      5\n1932       Wing      M      5\n1933       Wood      M      5\n1934     Wright      M      5\n\n[3870 rows x 3 columns]",
      "text/html": "<div>\n<style scoped>\n    .dataframe tbody tr th:only-of-type {\n        vertical-align: middle;\n    }\n\n    .dataframe tbody tr th {\n        vertical-align: top;\n    }\n\n    .dataframe thead th {\n        text-align: right;\n    }\n</style>\n<table border=\"1\" class=\"dataframe\">\n  <thead>\n    <tr style=\"text-align: right;\">\n      <th></th>\n      <th>Name</th>\n      <th>Gender</th>\n      <th>Count</th>\n    </tr>\n  </thead>\n  <tbody>\n    <tr>\n      <th>0</th>\n      <td>Mary</td>\n      <td>F</td>\n      <td>6919</td>\n    </tr>\n    <tr>\n      <th>1</th>\n      <td>Anna</td>\n      <td>F</td>\n      <td>2698</td>\n    </tr>\n    <tr>\n      <th>2</th>\n      <td>Emma</td>\n      <td>F</td>\n      <td>2034</td>\n    </tr>\n    <tr>\n      <th>3</th>\n      <td>Elizabeth</td>\n      <td>F</td>\n      <td>1852</td>\n    </tr>\n    <tr>\n      <th>4</th>\n      <td>Margaret</td>\n      <td>F</td>\n      <td>1658</td>\n    </tr>\n    <tr>\n      <th>...</th>\n      <td>...</td>\n      <td>...</td>\n      <td>...</td>\n    </tr>\n    <tr>\n      <th>1930</th>\n      <td>Wiliam</td>\n      <td>M</td>\n      <td>5</td>\n    </tr>\n    <tr>\n      <th>1931</th>\n      <td>Wilton</td>\n      <td>M</td>\n      <td>5</td>\n    </tr>\n    <tr>\n      <th>1932</th>\n      <td>Wing</td>\n      <td>M</td>\n      <td>5</td>\n    </tr>\n    <tr>\n      <th>1933</th>\n      <td>Wood</td>\n      <td>M</td>\n      <td>5</td>\n    </tr>\n    <tr>\n      <th>1934</th>\n      <td>Wright</td>\n      <td>M</td>\n      <td>5</td>\n    </tr>\n  </tbody>\n</table>\n<p>3870 rows × 3 columns</p>\n</div>"
     },
     "metadata": {}
    },
    {
     "output_type": "stream",
     "name": "stdout",
     "text": [
      "Jumlah dimensi data setelah penggabungan :  (3870, 3)\n"
     ]
    }
   ],
   "source": [
    "# <h2>Soal 2: Penggabungan Data</h2>\n",
    "\n",
    "# Pada quiz no 2 ini gunakan data [names1881.csv](https://drive.google.com/uc?export=download&id=1Pwu3cv93hI79jmi52kJ05xhophknDKat) dan [names1981.csv](https://drive.google.com/uc?export=download&id=1pvsGaybr423hJXcN35e5nS3sg4ha4jo3), data ini berisi nama bayi yang lahir pada tahun 1881 atau 1981 di Amerika.\n",
    "\n",
    "# - Baca data tersebut dengan memberikan nama column 'Name', 'Gender', 'Count'.\n",
    "# - Tunjukan jumlah dimensi dari data 'names1881.csv' dan 'names1981.csv'\n",
    "# - Gabungkan kedua data tersebut berdasarkan sumbu baris\n",
    "# - Tunjukan jumlah dimensi dari data setelah di gabungkan.\n",
    "\n",
    "import pandas as pd\n",
    "# read data\n",
    "df1 = pd.read_csv('names1881.csv',names=['Name','Gender','Count'])\n",
    "\n",
    "df2 = pd.read_csv('names1981.csv',names=['Name','Gander','Count'])\n",
    "\n",
    "# periksa dimensi dari kedua data\n",
    "print(\"Jumlah Dimensi data names1881.csv :\",df1.shape)\n",
    "# ........\n",
    "print(\"Jumlah Baris data names1981.csv :\",df2.shape)\n",
    "# ........\n",
    "\n",
    "# # gabungkan data\n",
    "df_concat =pd.concat([df1,df1])\n",
    "display(df_concat)\n",
    "\n",
    "# # periksa dimensi data hasil gabungan\n",
    "print(\"Jumlah dimensi data setelah penggabungan : \",df_concat.shape)\n",
    "# .........\n"
   ]
  },
  {
   "cell_type": "code",
   "execution_count": 27,
   "metadata": {},
   "outputs": [
    {
     "output_type": "display_data",
     "data": {
      "text/plain": "   id Feature1 Feature2\n0   1       a1       b1\n1   2       a2       b2\n2   3       a3       b3\n3   4       a4       b4",
      "text/html": "<div>\n<style scoped>\n    .dataframe tbody tr th:only-of-type {\n        vertical-align: middle;\n    }\n\n    .dataframe tbody tr th {\n        vertical-align: top;\n    }\n\n    .dataframe thead th {\n        text-align: right;\n    }\n</style>\n<table border=\"1\" class=\"dataframe\">\n  <thead>\n    <tr style=\"text-align: right;\">\n      <th></th>\n      <th>id</th>\n      <th>Feature1</th>\n      <th>Feature2</th>\n    </tr>\n  </thead>\n  <tbody>\n    <tr>\n      <th>0</th>\n      <td>1</td>\n      <td>a1</td>\n      <td>b1</td>\n    </tr>\n    <tr>\n      <th>1</th>\n      <td>2</td>\n      <td>a2</td>\n      <td>b2</td>\n    </tr>\n    <tr>\n      <th>2</th>\n      <td>3</td>\n      <td>a3</td>\n      <td>b3</td>\n    </tr>\n    <tr>\n      <th>3</th>\n      <td>4</td>\n      <td>a4</td>\n      <td>b4</td>\n    </tr>\n  </tbody>\n</table>\n</div>"
     },
     "metadata": {}
    },
    {
     "output_type": "display_data",
     "data": {
      "text/plain": "   id Feature3\n0   3       c1\n1   4       c2\n2   5       c3\n3   6       c4\n4   7       c5",
      "text/html": "<div>\n<style scoped>\n    .dataframe tbody tr th:only-of-type {\n        vertical-align: middle;\n    }\n\n    .dataframe tbody tr th {\n        vertical-align: top;\n    }\n\n    .dataframe thead th {\n        text-align: right;\n    }\n</style>\n<table border=\"1\" class=\"dataframe\">\n  <thead>\n    <tr style=\"text-align: right;\">\n      <th></th>\n      <th>id</th>\n      <th>Feature3</th>\n    </tr>\n  </thead>\n  <tbody>\n    <tr>\n      <th>0</th>\n      <td>3</td>\n      <td>c1</td>\n    </tr>\n    <tr>\n      <th>1</th>\n      <td>4</td>\n      <td>c2</td>\n    </tr>\n    <tr>\n      <th>2</th>\n      <td>5</td>\n      <td>c3</td>\n    </tr>\n    <tr>\n      <th>3</th>\n      <td>6</td>\n      <td>c4</td>\n    </tr>\n    <tr>\n      <th>4</th>\n      <td>7</td>\n      <td>c5</td>\n    </tr>\n  </tbody>\n</table>\n</div>"
     },
     "metadata": {}
    },
    {
     "output_type": "display_data",
     "data": {
      "text/plain": "'join outer: '"
     },
     "metadata": {}
    },
    {
     "output_type": "display_data",
     "data": {
      "text/plain": "   id Feature1 Feature2 Feature3\n0   1       a1       b1      NaN\n1   2       a2       b2      NaN\n2   3       a3       b3       c1\n3   4       a4       b4       c2\n4   5      NaN      NaN       c3\n5   6      NaN      NaN       c4\n6   7      NaN      NaN       c5",
      "text/html": "<div>\n<style scoped>\n    .dataframe tbody tr th:only-of-type {\n        vertical-align: middle;\n    }\n\n    .dataframe tbody tr th {\n        vertical-align: top;\n    }\n\n    .dataframe thead th {\n        text-align: right;\n    }\n</style>\n<table border=\"1\" class=\"dataframe\">\n  <thead>\n    <tr style=\"text-align: right;\">\n      <th></th>\n      <th>id</th>\n      <th>Feature1</th>\n      <th>Feature2</th>\n      <th>Feature3</th>\n    </tr>\n  </thead>\n  <tbody>\n    <tr>\n      <th>0</th>\n      <td>1</td>\n      <td>a1</td>\n      <td>b1</td>\n      <td>NaN</td>\n    </tr>\n    <tr>\n      <th>1</th>\n      <td>2</td>\n      <td>a2</td>\n      <td>b2</td>\n      <td>NaN</td>\n    </tr>\n    <tr>\n      <th>2</th>\n      <td>3</td>\n      <td>a3</td>\n      <td>b3</td>\n      <td>c1</td>\n    </tr>\n    <tr>\n      <th>3</th>\n      <td>4</td>\n      <td>a4</td>\n      <td>b4</td>\n      <td>c2</td>\n    </tr>\n    <tr>\n      <th>4</th>\n      <td>5</td>\n      <td>NaN</td>\n      <td>NaN</td>\n      <td>c3</td>\n    </tr>\n    <tr>\n      <th>5</th>\n      <td>6</td>\n      <td>NaN</td>\n      <td>NaN</td>\n      <td>c4</td>\n    </tr>\n    <tr>\n      <th>6</th>\n      <td>7</td>\n      <td>NaN</td>\n      <td>NaN</td>\n      <td>c5</td>\n    </tr>\n  </tbody>\n</table>\n</div>"
     },
     "metadata": {}
    },
    {
     "output_type": "display_data",
     "data": {
      "text/plain": "'join inner: '"
     },
     "metadata": {}
    },
    {
     "output_type": "display_data",
     "data": {
      "text/plain": "   id Feature1 Feature2 Feature3\n0   3       a3       b3       c1\n1   4       a4       b4       c2",
      "text/html": "<div>\n<style scoped>\n    .dataframe tbody tr th:only-of-type {\n        vertical-align: middle;\n    }\n\n    .dataframe tbody tr th {\n        vertical-align: top;\n    }\n\n    .dataframe thead th {\n        text-align: right;\n    }\n</style>\n<table border=\"1\" class=\"dataframe\">\n  <thead>\n    <tr style=\"text-align: right;\">\n      <th></th>\n      <th>id</th>\n      <th>Feature1</th>\n      <th>Feature2</th>\n      <th>Feature3</th>\n    </tr>\n  </thead>\n  <tbody>\n    <tr>\n      <th>0</th>\n      <td>3</td>\n      <td>a3</td>\n      <td>b3</td>\n      <td>c1</td>\n    </tr>\n    <tr>\n      <th>1</th>\n      <td>4</td>\n      <td>a4</td>\n      <td>b4</td>\n      <td>c2</td>\n    </tr>\n  </tbody>\n</table>\n</div>"
     },
     "metadata": {}
    },
    {
     "output_type": "display_data",
     "data": {
      "text/plain": "'join left: '"
     },
     "metadata": {}
    },
    {
     "output_type": "display_data",
     "data": {
      "text/plain": "   id Feature1 Feature2 Feature3\n0   1       a1       b1      NaN\n1   2       a2       b2      NaN\n2   3       a3       b3       c1\n3   4       a4       b4       c2",
      "text/html": "<div>\n<style scoped>\n    .dataframe tbody tr th:only-of-type {\n        vertical-align: middle;\n    }\n\n    .dataframe tbody tr th {\n        vertical-align: top;\n    }\n\n    .dataframe thead th {\n        text-align: right;\n    }\n</style>\n<table border=\"1\" class=\"dataframe\">\n  <thead>\n    <tr style=\"text-align: right;\">\n      <th></th>\n      <th>id</th>\n      <th>Feature1</th>\n      <th>Feature2</th>\n      <th>Feature3</th>\n    </tr>\n  </thead>\n  <tbody>\n    <tr>\n      <th>0</th>\n      <td>1</td>\n      <td>a1</td>\n      <td>b1</td>\n      <td>NaN</td>\n    </tr>\n    <tr>\n      <th>1</th>\n      <td>2</td>\n      <td>a2</td>\n      <td>b2</td>\n      <td>NaN</td>\n    </tr>\n    <tr>\n      <th>2</th>\n      <td>3</td>\n      <td>a3</td>\n      <td>b3</td>\n      <td>c1</td>\n    </tr>\n    <tr>\n      <th>3</th>\n      <td>4</td>\n      <td>a4</td>\n      <td>b4</td>\n      <td>c2</td>\n    </tr>\n  </tbody>\n</table>\n</div>"
     },
     "metadata": {}
    },
    {
     "output_type": "display_data",
     "data": {
      "text/plain": "'join rigth: '"
     },
     "metadata": {}
    },
    {
     "output_type": "display_data",
     "data": {
      "text/plain": "   id Feature1 Feature2 Feature3\n0   3       a3       b3       c1\n1   4       a4       b4       c2\n2   5      NaN      NaN       c3\n3   6      NaN      NaN       c4\n4   7      NaN      NaN       c5",
      "text/html": "<div>\n<style scoped>\n    .dataframe tbody tr th:only-of-type {\n        vertical-align: middle;\n    }\n\n    .dataframe tbody tr th {\n        vertical-align: top;\n    }\n\n    .dataframe thead th {\n        text-align: right;\n    }\n</style>\n<table border=\"1\" class=\"dataframe\">\n  <thead>\n    <tr style=\"text-align: right;\">\n      <th></th>\n      <th>id</th>\n      <th>Feature1</th>\n      <th>Feature2</th>\n      <th>Feature3</th>\n    </tr>\n  </thead>\n  <tbody>\n    <tr>\n      <th>0</th>\n      <td>3</td>\n      <td>a3</td>\n      <td>b3</td>\n      <td>c1</td>\n    </tr>\n    <tr>\n      <th>1</th>\n      <td>4</td>\n      <td>a4</td>\n      <td>b4</td>\n      <td>c2</td>\n    </tr>\n    <tr>\n      <th>2</th>\n      <td>5</td>\n      <td>NaN</td>\n      <td>NaN</td>\n      <td>c3</td>\n    </tr>\n    <tr>\n      <th>3</th>\n      <td>6</td>\n      <td>NaN</td>\n      <td>NaN</td>\n      <td>c4</td>\n    </tr>\n    <tr>\n      <th>4</th>\n      <td>7</td>\n      <td>NaN</td>\n      <td>NaN</td>\n      <td>c5</td>\n    </tr>\n  </tbody>\n</table>\n</div>"
     },
     "metadata": {}
    }
   ],
   "source": [
    "# <h2>Soal 3: Penggabungan Data</h2>\n",
    "\n",
    "# Lakukan jenis penggabungan data full outer join, inner join, left outer join dan right outer join pada kedua data berikut: \n",
    "\n",
    "import pandas as pd\n",
    "\n",
    "data1 = {\n",
    "    'id' : [1, 2, 3, 4],\n",
    "    'Feature1' : ['a1', 'a2', 'a3', 'a4'],\n",
    "    'Feature2' : ['b1', 'b2', 'b3', 'b4']\n",
    "}\n",
    "\n",
    "data2 = {\n",
    "    'id' : [3, 4, 5 ,6, 7],\n",
    "    'Feature3' : ['c1', 'c2', 'c3', 'c4', 'c5']\n",
    "}\n",
    "\n",
    "df1= pd.DataFrame(data1)\n",
    "df2= pd.DataFrame(data2)\n",
    "\n",
    "display(df1)\n",
    "display(df2)\n",
    "\n",
    "# join data\n",
    "df_outer_join = pd.merge(df1,df2,on='id', how='outer')\n",
    "display('join outer: ',df_outer_join)\n",
    "\n",
    "df_inner_join =pd.merge(df1,df2,on='id', how='inner')\n",
    "display('join inner: ',df_inner_join)\n",
    "\n",
    "df_left_join =pd.merge(df1,df2,on='id', how='left')\n",
    "display('join left: ',df_left_join)\n",
    "\n",
    "df_right_join =pd.merge(df1,df2,on='id',how='right')\n",
    "display('join rigth: ',df_right_join)"
   ]
  },
  {
   "cell_type": "code",
   "execution_count": 30,
   "metadata": {},
   "outputs": [
    {
     "output_type": "display_data",
     "data": {
      "text/plain": "   key_data1 Feature1 Feature2\n0          1       a1       b1\n1          2       a2       b2\n2          3       a3       b3\n3          4       a4       b4",
      "text/html": "<div>\n<style scoped>\n    .dataframe tbody tr th:only-of-type {\n        vertical-align: middle;\n    }\n\n    .dataframe tbody tr th {\n        vertical-align: top;\n    }\n\n    .dataframe thead th {\n        text-align: right;\n    }\n</style>\n<table border=\"1\" class=\"dataframe\">\n  <thead>\n    <tr style=\"text-align: right;\">\n      <th></th>\n      <th>key_data1</th>\n      <th>Feature1</th>\n      <th>Feature2</th>\n    </tr>\n  </thead>\n  <tbody>\n    <tr>\n      <th>0</th>\n      <td>1</td>\n      <td>a1</td>\n      <td>b1</td>\n    </tr>\n    <tr>\n      <th>1</th>\n      <td>2</td>\n      <td>a2</td>\n      <td>b2</td>\n    </tr>\n    <tr>\n      <th>2</th>\n      <td>3</td>\n      <td>a3</td>\n      <td>b3</td>\n    </tr>\n    <tr>\n      <th>3</th>\n      <td>4</td>\n      <td>a4</td>\n      <td>b4</td>\n    </tr>\n  </tbody>\n</table>\n</div>"
     },
     "metadata": {}
    },
    {
     "output_type": "display_data",
     "data": {
      "text/plain": "   key_data2 Feature3\n0          3       c1\n1          4       c2\n2          5       c3\n3          6       c4\n4          7       c5",
      "text/html": "<div>\n<style scoped>\n    .dataframe tbody tr th:only-of-type {\n        vertical-align: middle;\n    }\n\n    .dataframe tbody tr th {\n        vertical-align: top;\n    }\n\n    .dataframe thead th {\n        text-align: right;\n    }\n</style>\n<table border=\"1\" class=\"dataframe\">\n  <thead>\n    <tr style=\"text-align: right;\">\n      <th></th>\n      <th>key_data2</th>\n      <th>Feature3</th>\n    </tr>\n  </thead>\n  <tbody>\n    <tr>\n      <th>0</th>\n      <td>3</td>\n      <td>c1</td>\n    </tr>\n    <tr>\n      <th>1</th>\n      <td>4</td>\n      <td>c2</td>\n    </tr>\n    <tr>\n      <th>2</th>\n      <td>5</td>\n      <td>c3</td>\n    </tr>\n    <tr>\n      <th>3</th>\n      <td>6</td>\n      <td>c4</td>\n    </tr>\n    <tr>\n      <th>4</th>\n      <td>7</td>\n      <td>c5</td>\n    </tr>\n  </tbody>\n</table>\n</div>"
     },
     "metadata": {}
    },
    {
     "output_type": "display_data",
     "data": {
      "text/plain": "   key_data1 Feature1 Feature2  key_data2 Feature3\n0          3       a3       b3          3       c1\n1          4       a4       b4          4       c2",
      "text/html": "<div>\n<style scoped>\n    .dataframe tbody tr th:only-of-type {\n        vertical-align: middle;\n    }\n\n    .dataframe tbody tr th {\n        vertical-align: top;\n    }\n\n    .dataframe thead th {\n        text-align: right;\n    }\n</style>\n<table border=\"1\" class=\"dataframe\">\n  <thead>\n    <tr style=\"text-align: right;\">\n      <th></th>\n      <th>key_data1</th>\n      <th>Feature1</th>\n      <th>Feature2</th>\n      <th>key_data2</th>\n      <th>Feature3</th>\n    </tr>\n  </thead>\n  <tbody>\n    <tr>\n      <th>0</th>\n      <td>3</td>\n      <td>a3</td>\n      <td>b3</td>\n      <td>3</td>\n      <td>c1</td>\n    </tr>\n    <tr>\n      <th>1</th>\n      <td>4</td>\n      <td>a4</td>\n      <td>b4</td>\n      <td>4</td>\n      <td>c2</td>\n    </tr>\n  </tbody>\n</table>\n</div>"
     },
     "metadata": {}
    }
   ],
   "source": [
    "# <h2>Soal 4: Penggabungan Data berbeda label column Key</h2>\n",
    "\n",
    "# Lakukan jenis penggabungan inner join untuk 2 data yang memiliki nama column key yang berbeda ini:\n",
    "data1 = {\n",
    "    'key_data1' : [1, 2, 3, 4],\n",
    "    'Feature1' : ['a1', 'a2', 'a3', 'a4'],\n",
    "    'Feature2' : ['b1', 'b2', 'b3', 'b4']\n",
    "}\n",
    "\n",
    "data2 = {\n",
    "    'key_data2' : [3, 4, 5 ,6, 7],\n",
    "    'Feature3' : ['c1', 'c2', 'c3', 'c4', 'c5']\n",
    "}\n",
    "\n",
    "df1= pd.DataFrame(data1)\n",
    "df2= pd.DataFrame(data2)\n",
    "\n",
    "display(df1)\n",
    "display(df2)\n",
    "# Gabungkan kedua data tersebut\n",
    "df_gabung = pd.merge(df1,df2,left_on='key_data1',right_on='key_data2', how='inner')\n",
    "display(df_gabung)\n"
   ]
  },
  {
   "cell_type": "code",
   "execution_count": null,
   "metadata": {},
   "outputs": [],
   "source": []
  }
 ]
}