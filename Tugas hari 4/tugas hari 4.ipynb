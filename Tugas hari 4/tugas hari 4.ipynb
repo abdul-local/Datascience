{
 "metadata": {
  "language_info": {
   "codemirror_mode": {
    "name": "ipython",
    "version": 3
   },
   "file_extension": ".py",
   "mimetype": "text/x-python",
   "name": "python",
   "nbconvert_exporter": "python",
   "pygments_lexer": "ipython3",
   "version": "3.9.2"
  },
  "orig_nbformat": 2,
  "kernelspec": {
   "name": "python392jvsc74a57bd06cbb41571b20674ffee661aa3e8e8b885ec56c497d88337beffcf280b455b3f0",
   "display_name": "Python 3.9.2 64-bit"
  },
  "metadata": {
   "interpreter": {
    "hash": "6cbb41571b20674ffee661aa3e8e8b885ec56c497d88337beffcf280b455b3f0"
   }
  }
 },
 "nbformat": 4,
 "nbformat_minor": 2,
 "cells": [
  {
   "cell_type": "code",
   "execution_count": 1,
   "metadata": {},
   "outputs": [],
   "source": [
    "# <h2>Soal 1: Sifat List</h2>\n",
    "\n",
    "# Jawab Pertanyaan di bawah ini:\n",
    "\n",
    "# Jenis data apa saja yang bisa ada di dalam List?\n",
    "\n",
    "nilai-nilai yang bertipe data apapun dapat dimasukan sebagai koleksi di dalam list, sperti string,int,float dan lain sebagainya"
   ]
  },
  {
   "cell_type": "code",
   "execution_count": 3,
   "metadata": {},
   "outputs": [
    {
     "output_type": "stream",
     "name": "stdout",
     "text": [
      "['13b', 'aa1', 1.32, 22.1]\n"
     ]
    }
   ],
   "source": [
    "# <h2>Soal 2: Akses List</h2>\n",
    "\n",
    "# Lengkapi kode untuk menghasilkan suatu output yang di harapkan\n",
    "a = ['1', '13b', 'aa1', 1.32, 22.1, 2.34]\n",
    "print(a[1:5])"
   ]
  },
  {
   "cell_type": "code",
   "execution_count": 5,
   "metadata": {},
   "outputs": [
    {
     "output_type": "stream",
     "name": "stdout",
     "text": [
      "[[1.32, 22.1, 2.34], [3, 40, 100], ['1', '13b', 'aa1']]\n"
     ]
    }
   ],
   "source": [
    "# <h2>Soal 3: Nested List</h2>\n",
    "\n",
    "# Lengkapi kode untuk menghasilkan suatu output yang di harapkan\n",
    "a = [1.32, 22.1, 2.34]\n",
    "b = ['1', '13b', 'aa1']\n",
    "c = [3, 40, 100]\n",
    "# combine list\n",
    "data=[a,c,b]\n",
    "print(data)"
   ]
  },
  {
   "cell_type": "code",
   "execution_count": 9,
   "metadata": {},
   "outputs": [
    {
     "output_type": "stream",
     "name": "stdout",
     "text": [
      "[0, 6]\n"
     ]
    }
   ],
   "source": [
    "# <h2>Soal 4: Akses Nested List</h2>\n",
    "\n",
    "# Lengkapi kode untuk menghasilkan suatu output yang di harapkan\n",
    "\n",
    "a = [\n",
    "    [5, 9, 8],\n",
    "    [0, 0, 6]\n",
    "    ]\n",
    "# subsetting list\n",
    "b=a[1]\n",
    "print(b[1:3])\n",
    "\n"
   ]
  },
  {
   "cell_type": "code",
   "execution_count": 11,
   "metadata": {},
   "outputs": [
    {
     "output_type": "stream",
     "name": "stdout",
     "text": [
      "[0, 2, 4, 5, 9, 10]\n10\n"
     ]
    }
   ],
   "source": [
    "# <h2>Soal 5: Built in Function List</h2>\n",
    "\n",
    "# Lengkapi kode untuk menghasilkan suatu output yang di harapkan\n",
    "\n",
    "p = [0, 5, 2, 10, 4, 9]\n",
    "# ordered list\n",
    "print(sorted(p, reverse=False))\n",
    "# get max value of list\n",
    "print(max(p))"
   ]
  },
  {
   "cell_type": "code",
   "execution_count": 13,
   "metadata": {},
   "outputs": [
    {
     "output_type": "stream",
     "name": "stdout",
     "text": [
      "[5, 1, 3, 1, 3, 5]\n"
     ]
    }
   ],
   "source": [
    "# <h2>Soal 6: List Operation</h2>\n",
    "\n",
    "# Lengkapi kode untuk menghasilkan suatu output yang di harapkan\n",
    "a = [1, 3, 5]\n",
    "b = [5, 1, 3]\n",
    "# combine list\n",
    "gabung=b+a\n",
    "print(gabung)"
   ]
  },
  {
   "cell_type": "code",
   "execution_count": 18,
   "metadata": {},
   "outputs": [
    {
     "output_type": "stream",
     "name": "stdout",
     "text": [
      "[[5, 9, 10], [11, 0, 6]]\n"
     ]
    }
   ],
   "source": [
    "# <h2>Soal 7: List Manipulation</h2>\n",
    "\n",
    "# Lengkapi kode untuk menghasilkan suatu output yang di harapkan\n",
    "\n",
    "a = [\n",
    "    [5, 9, 8],\n",
    "    [0, 0, 6]\n",
    "    ]\n",
    "# change list value\n",
    "# print(a[0][2])\n",
    "a[0][2]=10\n",
    "# change list value\n",
    "# a[1[0]]=11\n",
    "a[1][0]=11\n",
    "print(a)"
   ]
  },
  {
   "cell_type": "code",
   "execution_count": 19,
   "metadata": {},
   "outputs": [
    {
     "output_type": "stream",
     "name": "stdout",
     "text": [
      "['hallway', 11.25, 'kitchen', 18.0, 'chill zone', 20.0, 'bedroom', 10.75, 'poolhouse', 24.5, 'garage', 15.45]\n"
     ]
    }
   ],
   "source": [
    "# <h2>Soal 8: Delete Element List</h2>\n",
    "\n",
    "# Lengkapi kode untuk menghasilkan suatu output yang di harapkan\n",
    "areas = [\"hallway\", 11.25, \"kitchen\", 18.0,\n",
    "        \"chill zone\", 20.0, \"bedroom\", 10.75,\n",
    "         \"bathroom\", 10.50, \"poolhouse\", 24.5,\n",
    "         \"garage\", 15.45]\n",
    "\n",
    "# Hilangkan elemen yang bernilai \"bathroom\" dan 10.50 dalam satu statement code\n",
    "del(areas[8:10])\n",
    "print(areas)"
   ]
  },
  {
   "cell_type": "code",
   "execution_count": 23,
   "metadata": {},
   "outputs": [
    {
     "output_type": "stream",
     "name": "stdout",
     "text": [
      "[0, 4, 16, 36, 64]\n"
     ]
    }
   ],
   "source": [
    "## Soal 9: List Comprehension\n",
    "\n",
    "# Gunakan metode **list comprehension** untuk mencari anggota dari S yang habis di bagi 2, kemudian assign hasilnya dalam bentuk list ke dalam variabel T.\n",
    "S = [0, 1, 4, 9, 16, 25, 36, 49, 64, 81]\n",
    "\n",
    "T = [i for i in S if i%2==0]\n",
    "\n",
    "print(T)"
   ]
  },
  {
   "cell_type": "code",
   "execution_count": 24,
   "metadata": {},
   "outputs": [
    {
     "output_type": "stream",
     "name": "stdout",
     "text": [
      "dict_keys(['spain', 'france', 'germany', 'norway'])\nparis\n"
     ]
    }
   ],
   "source": [
    "# <h2>Soal 10: Akses Dictionary</h2>\n",
    "\n",
    "# Lengkapi kode untuk menghasilkan suatu output yang di harapkan\n",
    "europe = {'spain':'madrid', 'france':'paris', 'germany':'berlin', 'norway':'oslo' }\n",
    "\n",
    "# print semua key yang ada di objek europe\n",
    "print(europe.keys())\n",
    "# print nilai dari key franche\n",
    "print(europe['france'])"
   ]
  },
  {
   "cell_type": "code",
   "execution_count": 25,
   "metadata": {},
   "outputs": [
    {
     "output_type": "stream",
     "name": "stdout",
     "text": [
      "True\n"
     ]
    }
   ],
   "source": [
    "# <h2>Soal 11: Menambahkan key-value baru ke Dictionary</h2>\n",
    "\n",
    "# Lengkapi kode untuk menghasilkan suatu output yang di harapkan\n",
    "europe = {'spain':'madrid', 'france':'paris', 'germany':'berlin', 'norway':'oslo' }\n",
    "\n",
    "# tambahkan key itali ke objek dictionary dengan value roma\n",
    "europe['itali']='roma'\n",
    "\n",
    "# cek apakah itali ada di dalam objek dictionary\n",
    "print('itali' in europe)"
   ]
  },
  {
   "cell_type": "code",
   "execution_count": 26,
   "metadata": {},
   "outputs": [
    {
     "output_type": "stream",
     "name": "stdout",
     "text": [
      "{'spain': 'madrid', 'france': 'paris', 'germany': 'berlin', 'norway': 'oslo', 'italy': 'rome', 'poland': 'warsaw'}\n"
     ]
    }
   ],
   "source": [
    "# <h2>Soal 12: Update dan Remove Dictinary</h2>\n",
    "    \n",
    "# Lengkapi kode untuk menghasilkan suatu output yang di harapkan\n",
    "europe = {'spain':'madrid', 'france':'paris', 'germany':'bonn',\n",
    "          'norway':'oslo', 'italy':'rome', 'poland':'warsaw',\n",
    "          'australia':'vienna' }\n",
    "\n",
    "# update nilai ibukota german ke berlin\n",
    "europe.update({'germany':'berlin'})\n",
    "\n",
    "# remove australia dari europa\n",
    "europe.pop('australia')\n",
    "\n",
    "print(europe)"
   ]
  },
  {
   "cell_type": "code",
   "execution_count": 29,
   "metadata": {},
   "outputs": [
    {
     "output_type": "stream",
     "name": "stdout",
     "text": [
      "80.62\n{'spain': {'capital': 'madrid', 'population': 46.77}, 'france': {'capital': 'paris', 'population': 66.03}, 'germany': {'capital': 'berlin', 'population': 80.62}, 'norway': {'capital': 'oslo', 'population': 5.084}, 'indonesia': {'capital': 'jakarta', 'population': 250}}\n"
     ]
    }
   ],
   "source": [
    "# <h2>Soal 13: Nested Dictionary</h2>\n",
    "    \n",
    "# Lengkapi kode untuk menghasilkan suatu output yang di harapkan\n",
    "country = { \n",
    "           'spain': { 'capital':'madrid', 'population':46.77 },\n",
    "           'france': { 'capital':'paris', 'population':66.03 },\n",
    "           'germany': { 'capital':'berlin', 'population':80.62 },\n",
    "           'norway': { 'capital':'oslo', 'population':5.084 } \n",
    "         }\n",
    "\n",
    "# berapa populasi dari kota german?\n",
    "print(country['germany']['population'])\n",
    "# update data baru, yaitu negara indonesia dengan capital jakarta dan poulasi 250\n",
    "country.update({'indonesia':{'capital':'jakarta','population':250}})\n",
    "\n",
    "print(country)"
   ]
  },
  {
   "cell_type": "code",
   "execution_count": 39,
   "metadata": {},
   "outputs": [
    {
     "output_type": "stream",
     "name": "stdout",
     "text": [
      "Ibukota spain adalah madrid\nIbukota france adalah paris\nIbukota germany adalah berlin\nIbukota norway adalah oslo\nIbukota indonesia adalah jakarta\n"
     ]
    }
   ],
   "source": [
    "# <h2>Soal 14: Loop Dictionary</h2>\n",
    "    \n",
    "# Lengkapi kode untuk menghasilkan suatu output yang di harapkan\n",
    "country = { \n",
    "           'spain': { 'capital':'madrid', 'population':46.77 },\n",
    "           'france': { 'capital':'paris', 'population':66.03 },\n",
    "           'germany': { 'capital':'berlin', 'population':80.62 },\n",
    "           'norway': { 'capital':'oslo', 'population':5.084 },\n",
    "           'indonesia' : {'capital':'jakarta', 'population':250}\n",
    "         }\n",
    "\n",
    "for key,value in country.items():\n",
    "    # print(key)\n",
    "    # print(value)\n",
    "    # print(negara)\n",
    "    # print(negara)\n",
    "    print('Ibukota '+key+' adalah '+value['capital'])\n"
   ]
  },
  {
   "cell_type": "code",
   "execution_count": null,
   "metadata": {},
   "outputs": [],
   "source": []
  }
 ]
}