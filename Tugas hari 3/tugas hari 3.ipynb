{
 "metadata": {
  "language_info": {
   "codemirror_mode": {
    "name": "ipython",
    "version": 3
   },
   "file_extension": ".py",
   "mimetype": "text/x-python",
   "name": "python",
   "nbconvert_exporter": "python",
   "pygments_lexer": "ipython3",
   "version": "3.9.2"
  },
  "orig_nbformat": 2,
  "kernelspec": {
   "name": "python392jvsc74a57bd06cbb41571b20674ffee661aa3e8e8b885ec56c497d88337beffcf280b455b3f0",
   "display_name": "Python 3.9.2 64-bit"
  },
  "metadata": {
   "interpreter": {
    "hash": "6cbb41571b20674ffee661aa3e8e8b885ec56c497d88337beffcf280b455b3f0"
   }
  }
 },
 "nbformat": 4,
 "nbformat_minor": 2,
 "cells": [
  {
   "cell_type": "code",
   "execution_count": 5,
   "metadata": {},
   "outputs": [
    {
     "output_type": "stream",
     "name": "stdout",
     "text": [
      "iya bernilai sama\nya hasilnya true\na lebih dari b\n"
     ]
    }
   ],
   "source": [
    "# <h2>Soal 1: Comparison Operator</h2>\n",
    "\n",
    "# - Berikan contoh comparison dari tipe data string\n",
    "# - Berikan contoh comparison dari tipe data boolean\n",
    "# - Berikan contoh comparison dari tipe data integer\n",
    "# contoh comparisison dari tipe data string\n",
    "if('abdul'=='abdul'):\n",
    "    print('iya bernilai sama')\n",
    "else :\n",
    "    print('nilai tak sama')\n",
    "\n",
    "#contih comparison dari tipe data boolean\n",
    "abdul=True\n",
    "\n",
    "if(abdul):\n",
    "    print('ya hasilnya true')\n",
    "else:\n",
    "    print('ya hasilnya false')\n",
    "\n",
    "#contoh compasrison dari tipe data integer\n",
    "a=10\n",
    "b=5\n",
    "if(a<b):\n",
    "    print('ya a kurang dari b')\n",
    "else :\n",
    "    print('a lebih dari b')\n"
   ]
  },
  {
   "cell_type": "code",
   "execution_count": 13,
   "metadata": {},
   "outputs": [
    {
     "output_type": "stream",
     "name": "stdout",
     "text": [
      "masuk ke nilai 0 sampai 10\n"
     ]
    }
   ],
   "source": [
    "# <h2>Soal 2: Boolean Comparison</h2>\n",
    "\n",
    "# - Berikan contoh gabungan multiple comparison menggunkan Boolean Comparisin 'and'\n",
    "# - Berikan contoh gabungan multiple comparison menggunkan Boolean Comparisin 'or'\n",
    "# - Berikan contoh gabungan multiple comparison menggunkan Boolean Comparisin 'not'\n",
    "\n",
    "#contoh comparison and\n",
    "x=int(input())\n",
    "if (x >=0 & x<=10):\n",
    "    print(\"masuk ke nilai 0 sampai 10\")\n",
    "else:\n",
    "    print(\"opps nilai tidak masuk ke 0 sampai 10\")\n"
   ]
  },
  {
   "cell_type": "code",
   "execution_count": 14,
   "metadata": {},
   "outputs": [
    {
     "output_type": "stream",
     "name": "stdout",
     "text": [
      "tidak lebih dari 0 dan  lebih dari 10\n"
     ]
    }
   ],
   "source": [
    "#contoh comparison or\n",
    "y=int(input())\n",
    "if (y>=0 | y <=10):\n",
    "    print('ya nilai lebih dari 0 dan kurang dari 10')\n",
    "else :\n",
    "    print('tidak lebih dari 0 dan  lebih dari 10')"
   ]
  },
  {
   "cell_type": "code",
   "execution_count": 17,
   "metadata": {},
   "outputs": [
    {
     "output_type": "stream",
     "name": "stdout",
     "text": [
      "ya nilai tidak sama dengan 10\n"
     ]
    }
   ],
   "source": [
    "#contoh comparison not\n",
    "z=int(input())\n",
    "if (z!=10):\n",
    "    print('ya nilai tidak sama dengan 10')\n",
    "else :\n",
    "    print('ya nilai sama dengan 10')"
   ]
  },
  {
   "cell_type": "code",
   "execution_count": 56,
   "metadata": {},
   "outputs": [
    {
     "output_type": "stream",
     "name": "stdout",
     "text": [
      "Besar\n"
     ]
    }
   ],
   "source": [
    "# <h2>Soal 3: If-Else Statement</h2>\n",
    "\n",
    "# Lengkapi kode untuk menghasilkan suatu output yang di harapkan\n",
    "\n",
    "# - Bualah sebuah if-else statement yang dimana akan mem-print 'Besar' jika ruangan adalah 'Kamar' dan ukuran lebih dari 12, kemudian mem-print 'Sedang' jika ruangan adalah 'Kamar' dan ukuran lebih dari 6 dan memprint 'Kecil' jika ruangan adalah 'Kamar' dan ukuran ruangan lebih kecil dan sama dengan 6.\n",
    "size=int(input())\n",
    "ruangan='kamar'\n",
    "\n",
    "if ( size> 12 ):\n",
    "    print(\"Besar\")\n",
    "elif ( size>6):\n",
    "    print(\"Sedang\")\n",
    "else :\n",
    "    print(\"Kecil\");\n"
   ]
  },
  {
   "cell_type": "code",
   "execution_count": 100,
   "metadata": {},
   "outputs": [
    {
     "output_type": "stream",
     "name": "stdout",
     "text": [
      "Aneh\nAneh\nTidak Aneh\n"
     ]
    }
   ],
   "source": [
    "# <h2>Soal 4: Comparison Operator dengan fungsi</h2>\n",
    "\n",
    "# Buatlah sebuah fungsi yang menerima satu argument bertipe data numeric dan menghasilkan sebuah return sebagai berikut :\n",
    "# - menghasilkan return 'Aneh' jika nilai dari argument tersebut adalah bilangan ganjil\n",
    "# - menghasilkan return 'Tidak Aneh' jika nilai dari argument tersebut adalah bilangan genap dan diantara nilai 2 sampai 5 (2 dan 5 termasuk)\n",
    "# - menghasilkan return 'Aneh' jika nilai dari argument tersebut adalah bilangan genap dan diantara nilai 6 sampai 20 (6 dan 20 termasuk)\n",
    "# - menghasilkan return 'Tidak Aneh' jika nilai dari argument tersebut adalah bilangan genap dan lebih besari dari 20\n",
    "def uji_angka(a):\n",
    "    x=int(a)\n",
    "    if x%2==1:\n",
    "        return'Aneh'\n",
    "    else:\n",
    "        if 2<=x<=5:\n",
    "            return 'Tidak Aneh'\n",
    "        elif 6<=x<=20:\n",
    "            return 'Aneh'\n",
    "        else:\n",
    "            return 'Tidak Aneh'\n",
    "   \n",
    "print(uji_angka(5)) #Aneh\n",
    "print(uji_angka(10)) # aneh\n",
    "print(uji_angka(22)) #tidak aneh"
   ]
  },
  {
   "cell_type": "code",
   "execution_count": 102,
   "metadata": {},
   "outputs": [
    {
     "output_type": "stream",
     "name": "stdout",
     "text": [
      "0 1 2 3 4 5 6 7 8 9 10 11 12 13 14 15 16 17 18 19 20 manga semangka nanasa duria "
     ]
    }
   ],
   "source": [
    "# <h2>Soal 5: While Loop dan For Loop</h2>\n",
    "\n",
    "# - Apa perbedaan while loop dan for loop?\n",
    "# - Berikan contoh sederhana cara menggunakan while loop dan for loop\n",
    "-Perulangan for disebut counted loop (perulangan yang terhitung), sementara perulangan while disebut uncounted loop (perulangan yang tak terhitung).\n",
    "- Perbedaannya adalah perulangan for biasanya digunakan untuk mengulangi kode yang sudah diketahui banyak perulangannya. Sementara while untuk perulangan yang memiliki syarat dan tidak tentu berapa banyak perulangannya.\n",
    "\n",
    "# contoh sederhana cara menggunakan while\n",
    "i=0\n",
    "while i<=20:\n",
    "    print(i,end=\" \")\n",
    "    i+=1\n",
    "\n",
    "#contoh penggunaan for \n",
    "buahan=['manga','semangka','nanasa','duria']\n",
    "for buah in buahan:\n",
    "    print(buah,end=\" \")\n",
    "\n",
    "\n",
    "\n",
    "\n",
    "\n"
   ]
  },
  {
   "cell_type": "code",
   "execution_count": 125,
   "metadata": {},
   "outputs": [
    {
     "output_type": "stream",
     "name": "stdout",
     "text": [
      "10 9 8 7 6 5 4 3 2 1 "
     ]
    }
   ],
   "source": [
    "# <h2>Soal 6: While Loop</h2>\n",
    "    \n",
    "# Buatlah sebuah code while loop sebagai berikut :\n",
    "# - Buatlah suatu fungsi yang merima satu input nilai numeric\n",
    "# - Dalam fungsi, Buat sebuah while-loop dengan melakukan comparasi terhadap inputan tersebut, dimana looping/iterasi terus berjalan apabila nilai inputan tidak sama dengan 0\n",
    "# - Dalam setiap iterasi update nilai variable inputan itu, jika input lebih dari 0, maka kurangi variabel tersebut sebesar 1, selain itu tambahkan \n",
    "# - print nilai variable input dalam setiap awal iterasi\n",
    "\n",
    "a = 10\n",
    "def fungsi_while(x):\n",
    "    while x>0:\n",
    "        print(x,end=\" \")\n",
    "        x-=1\n",
    "       \n",
    "fungsi_while(a)\n",
    "  \n",
    " \n",
    "\n",
    "\n",
    "\n",
    "\n",
    "\n",
    "\n"
   ]
  },
  {
   "cell_type": "code",
   "execution_count": 126,
   "metadata": {},
   "outputs": [
    {
     "output_type": "stream",
     "name": "stdout",
     "text": [
      "0\n16\n22\n30\n20\n"
     ]
    }
   ],
   "source": [
    "# <h2>Soal 7: For Loop</h2>\n",
    "    \n",
    "# Lengkapi kode untuk menghasilkan suatu output yang di harapkan:\n",
    "\n",
    "# - Buatlah sebuah loop dengan mengiterasi sebuah objek list kemudian di kalikan dengan index dari list tersebut dan print hasilnya\n",
    "\n",
    "obj_list= [1, 16, 11, 10, 5]\n",
    "\n",
    "# lengkapi code di bawah\n",
    "for index,data in enumerate(obj_list):\n",
    "    print(index*data)\n",
    "\n",
    "    "
   ]
  },
  {
   "cell_type": "code",
   "execution_count": null,
   "metadata": {},
   "outputs": [],
   "source": []
  }
 ]
}