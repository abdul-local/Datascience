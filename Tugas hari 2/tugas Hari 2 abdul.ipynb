{
 "metadata": {
  "language_info": {
   "codemirror_mode": {
    "name": "ipython",
    "version": 3
   },
   "file_extension": ".py",
   "mimetype": "text/x-python",
   "name": "python",
   "nbconvert_exporter": "python",
   "pygments_lexer": "ipython3",
   "version": "3.9.2"
  },
  "orig_nbformat": 2,
  "kernelspec": {
   "name": "python392jvsc74a57bd06cbb41571b20674ffee661aa3e8e8b885ec56c497d88337beffcf280b455b3f0",
   "display_name": "Python 3.9.2 64-bit"
  },
  "metadata": {
   "interpreter": {
    "hash": "6cbb41571b20674ffee661aa3e8e8b885ec56c497d88337beffcf280b455b3f0"
   }
  }
 },
 "nbformat": 4,
 "nbformat_minor": 2,
 "cells": [
  {
   "cell_type": "code",
   "execution_count": 1,
   "metadata": {},
   "outputs": [
    {
     "output_type": "stream",
     "name": "stdout",
     "text": [
      "Help on built-in function len in module builtins:\n\nlen(obj, /)\n    Return the number of items in a container.\n\nNone\n"
     ]
    }
   ],
   "source": [
    "# <h2>Soal 1: Helper Function</h2>\n",
    "\n",
    "# Jawab Pertanyaan di bawah ini:\n",
    "\n",
    "# Misalkan kamu ingin mengetahui tentang kegunaan fungsi 'len' di Python, maka fungsi apa yang bisa kamu gunakan untuk menolong kamu?\n",
    "\n",
    "print(help(len))"
   ]
  },
  {
   "cell_type": "code",
   "execution_count": 23,
   "metadata": {},
   "outputs": [
    {
     "output_type": "stream",
     "name": "stdout",
     "text": [
      "hello saya abdul\n3\n"
     ]
    },
    {
     "output_type": "execute_result",
     "data": {
      "text/plain": [
       "4"
      ]
     },
     "metadata": {},
     "execution_count": 23
    }
   ],
   "source": [
    "# <h2>Soal 2: Built-in Function</h2>\n",
    "\n",
    "# Jawab Pertanyaan di bawah ini:\n",
    "    \n",
    "# Apa itu built-in Function?\n",
    "\n",
    "# jawab\n",
    "\n",
    "sebuah blok code yang hanya bisa dijalankan ketika fungsi tersebut di panggil\n",
    "\n",
    "# Sebutkan 3 built-in Function di pyhon!\n",
    "\n",
    "# jawab\n",
    "\n",
    "1. function tanpa argument\n",
    "\n",
    "2. function dengan argument\n",
    "\n",
    "3. function lamda\n",
    "\n",
    "# Berikan contoh masing2 1 cara penggunaan built-in function yang kamu sebutkan sebelumnya\n",
    "\n",
    "# 1. contoh penggunaan tanpa argument\n",
    "\n",
    "def sayhelo():\n",
    "     print('hello saya abdul')\n",
    "sayhelo() # panggil function\n",
    "\n",
    "# 2. contoh function dengan argument \n",
    "def jumlah(a,b):\n",
    "    hasil=a+b\n",
    "    return hasil\n",
    "print(jumlah(1,2)) # panggil function\n",
    "\n",
    "# 3. contoh penggunaan function lamda\n",
    "f= lambda x:x*x\n",
    "f(2)\n",
    "\n",
    "\n",
    "\n",
    "    \n",
    "\n",
    "\n"
   ]
  },
  {
   "cell_type": "code",
   "execution_count": 3,
   "metadata": {},
   "outputs": [],
   "source": [
    "# <h2>Soal 3: Method dan Function</h2>\n",
    "\n",
    "# Jawab Pertanyaan di bawah ini:\n",
    "    \n",
    "# - Apa perbedaan method dan function?\n",
    "\n",
    "# jawab\n",
    "\n",
    "function itu tidak terasosiasi dengan suatu object sebaliknya kalau method terasosiasi dengan object\n",
    "function itu tidak berurusan dengan python class sedangankan method berurusan dengan python class\n",
    "function itu explisit sebaliknya method itu implisit\n"
   ]
  },
  {
   "cell_type": "code",
   "execution_count": 7,
   "metadata": {},
   "outputs": [
    {
     "output_type": "stream",
     "name": "stdout",
     "text": [
      "CORONA CEPAT SELESAI\n3\n"
     ]
    }
   ],
   "source": [
    "# <h2>Soal 4: Menggunkan Method String</h2>\n",
    "\n",
    "# Lengkapi kode untuk menghasilkan suatu output yang di harapkan\n",
    "kalimat = \"Corona cepat selesai\"\n",
    "\n",
    "# gunakan method untuk mengubah nilai kalimat menjadi uppercase semua kemudian tampilkan hasilnya\n",
    "print(kalimat.upper())\n",
    "\n",
    "# gunakan method untuk menghitung berapa huruf e di dalam kalimat\n",
    "print(kalimat.count('e'))\n"
   ]
  },
  {
   "cell_type": "code",
   "execution_count": 8,
   "metadata": {},
   "outputs": [
    {
     "output_type": "stream",
     "name": "stdout",
     "text": [
      "13.9\n"
     ]
    }
   ],
   "source": [
    "# <h2>Soal 5: Membuat Simple Function</h2>\n",
    "\n",
    "# Buatlah suatu fungsi yang menerima satu input argumen berbentuk list dan mempunyai elemen bertipe numeric semua, dimana fungsi tersebut berguna untuk menghitung rata2 dari kumpulan elemen list tersebut. namai fungsi tersebut 'mean_list'\n",
    "\n",
    "obj_list = [11.25, 18.0, 20.0, 10.75, 9.50]\n",
    "def mean_list(inp_list):\n",
    "    # isikan code\n",
    "    jumlah=sum(inp_list)\n",
    "    n=len(inp_list)\n",
    "    return jumlah/n;\n",
    "    \n",
    "print(mean_list(obj_list))"
   ]
  },
  {
   "cell_type": "code",
   "execution_count": 11,
   "metadata": {},
   "outputs": [
    {
     "output_type": "stream",
     "name": "stdout",
     "text": [
      "[2, 4, 5, 6, 1, 2, 3]\n"
     ]
    }
   ],
   "source": [
    "# <h2>Soal 6: Membuat Function dengan Multiple arguments</h2>\n",
    "\n",
    "# Buatlah suatu fungsi untuk melakukan penggabungan antara dua list\n",
    "obj_list = [2, 4, 5, 6]\n",
    "obj_penambah = [1, 2, 3]\n",
    "\n",
    "def kali_list(a,b):\n",
    "    # isikan kode\n",
    "    gabung=a+b\n",
    "    return gabung;\n",
    "    \n",
    "    \n",
    "print(kali_list(obj_list, obj_penambah))"
   ]
  },
  {
   "cell_type": "code",
   "execution_count": null,
   "metadata": {},
   "outputs": [],
   "source": []
  }
 ]
}