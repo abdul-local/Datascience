{
 "metadata": {
  "language_info": {
   "codemirror_mode": {
    "name": "ipython",
    "version": 3
   },
   "file_extension": ".py",
   "mimetype": "text/x-python",
   "name": "python",
   "nbconvert_exporter": "python",
   "pygments_lexer": "ipython3",
   "version": "3.9.2"
  },
  "orig_nbformat": 2,
  "kernelspec": {
   "name": "python392jvsc74a57bd06cbb41571b20674ffee661aa3e8e8b885ec56c497d88337beffcf280b455b3f0",
   "display_name": "Python 3.9.2 64-bit"
  },
  "metadata": {
   "interpreter": {
    "hash": "6cbb41571b20674ffee661aa3e8e8b885ec56c497d88337beffcf280b455b3f0"
   }
  }
 },
 "nbformat": 4,
 "nbformat_minor": 2,
 "cells": [
  {
   "cell_type": "code",
   "execution_count": 3,
   "metadata": {},
   "outputs": [
    {
     "output_type": "stream",
     "name": "stdout",
     "text": [
      "   No   Nama\n0   1  Abdul\n1   2    Eko\n"
     ]
    }
   ],
   "source": [
    "# <h2>Soal 1: Membuat Objek DataFrames</h2>\n",
    "\n",
    "# - Buatlah objek dataframes dari objek dictionary, Bebas!\n",
    "import pandas as pd \n",
    "df=pd.DataFrame({'No':[1,2],'Nama':['Abdul','Eko']})\n",
    "print(df)\n"
   ]
  },
  {
   "cell_type": "code",
   "execution_count": 8,
   "metadata": {},
   "outputs": [
    {
     "output_type": "display_data",
     "data": {
      "text/plain": "       Unnamed: 0  carat        cut color clarity  depth  table  price     x  \\\n0               1   0.23      Ideal     E     SI2   61.5   55.0    326  3.95   \n1               2   0.21    Premium     E     SI1   59.8   61.0    326  3.89   \n2               3   0.23       Good     E     VS1   56.9   65.0    327  4.05   \n3               4   0.29    Premium     I     VS2   62.4   58.0    334  4.20   \n4               5   0.31       Good     J     SI2   63.3   58.0    335  4.34   \n...           ...    ...        ...   ...     ...    ...    ...    ...   ...   \n53935       53936   0.72      Ideal     D     SI1   60.8   57.0   2757  5.75   \n53936       53937   0.72       Good     D     SI1   63.1   55.0   2757  5.69   \n53937       53938   0.70  Very Good     D     SI1   62.8   60.0   2757  5.66   \n53938       53939   0.86    Premium     H     SI2   61.0   58.0   2757  6.15   \n53939       53940   0.75      Ideal     D     SI2   62.2   55.0   2757  5.83   \n\n          y     z  \n0      3.98  2.43  \n1      3.84  2.31  \n2      4.07  2.31  \n3      4.23  2.63  \n4      4.35  2.75  \n...     ...   ...  \n53935  5.76  3.50  \n53936  5.75  3.61  \n53937  5.68  3.56  \n53938  6.12  3.74  \n53939  5.87  3.64  \n\n[53940 rows x 11 columns]",
      "text/html": "<div>\n<style scoped>\n    .dataframe tbody tr th:only-of-type {\n        vertical-align: middle;\n    }\n\n    .dataframe tbody tr th {\n        vertical-align: top;\n    }\n\n    .dataframe thead th {\n        text-align: right;\n    }\n</style>\n<table border=\"1\" class=\"dataframe\">\n  <thead>\n    <tr style=\"text-align: right;\">\n      <th></th>\n      <th>Unnamed: 0</th>\n      <th>carat</th>\n      <th>cut</th>\n      <th>color</th>\n      <th>clarity</th>\n      <th>depth</th>\n      <th>table</th>\n      <th>price</th>\n      <th>x</th>\n      <th>y</th>\n      <th>z</th>\n    </tr>\n  </thead>\n  <tbody>\n    <tr>\n      <th>0</th>\n      <td>1</td>\n      <td>0.23</td>\n      <td>Ideal</td>\n      <td>E</td>\n      <td>SI2</td>\n      <td>61.5</td>\n      <td>55.0</td>\n      <td>326</td>\n      <td>3.95</td>\n      <td>3.98</td>\n      <td>2.43</td>\n    </tr>\n    <tr>\n      <th>1</th>\n      <td>2</td>\n      <td>0.21</td>\n      <td>Premium</td>\n      <td>E</td>\n      <td>SI1</td>\n      <td>59.8</td>\n      <td>61.0</td>\n      <td>326</td>\n      <td>3.89</td>\n      <td>3.84</td>\n      <td>2.31</td>\n    </tr>\n    <tr>\n      <th>2</th>\n      <td>3</td>\n      <td>0.23</td>\n      <td>Good</td>\n      <td>E</td>\n      <td>VS1</td>\n      <td>56.9</td>\n      <td>65.0</td>\n      <td>327</td>\n      <td>4.05</td>\n      <td>4.07</td>\n      <td>2.31</td>\n    </tr>\n    <tr>\n      <th>3</th>\n      <td>4</td>\n      <td>0.29</td>\n      <td>Premium</td>\n      <td>I</td>\n      <td>VS2</td>\n      <td>62.4</td>\n      <td>58.0</td>\n      <td>334</td>\n      <td>4.20</td>\n      <td>4.23</td>\n      <td>2.63</td>\n    </tr>\n    <tr>\n      <th>4</th>\n      <td>5</td>\n      <td>0.31</td>\n      <td>Good</td>\n      <td>J</td>\n      <td>SI2</td>\n      <td>63.3</td>\n      <td>58.0</td>\n      <td>335</td>\n      <td>4.34</td>\n      <td>4.35</td>\n      <td>2.75</td>\n    </tr>\n    <tr>\n      <th>...</th>\n      <td>...</td>\n      <td>...</td>\n      <td>...</td>\n      <td>...</td>\n      <td>...</td>\n      <td>...</td>\n      <td>...</td>\n      <td>...</td>\n      <td>...</td>\n      <td>...</td>\n      <td>...</td>\n    </tr>\n    <tr>\n      <th>53935</th>\n      <td>53936</td>\n      <td>0.72</td>\n      <td>Ideal</td>\n      <td>D</td>\n      <td>SI1</td>\n      <td>60.8</td>\n      <td>57.0</td>\n      <td>2757</td>\n      <td>5.75</td>\n      <td>5.76</td>\n      <td>3.50</td>\n    </tr>\n    <tr>\n      <th>53936</th>\n      <td>53937</td>\n      <td>0.72</td>\n      <td>Good</td>\n      <td>D</td>\n      <td>SI1</td>\n      <td>63.1</td>\n      <td>55.0</td>\n      <td>2757</td>\n      <td>5.69</td>\n      <td>5.75</td>\n      <td>3.61</td>\n    </tr>\n    <tr>\n      <th>53937</th>\n      <td>53938</td>\n      <td>0.70</td>\n      <td>Very Good</td>\n      <td>D</td>\n      <td>SI1</td>\n      <td>62.8</td>\n      <td>60.0</td>\n      <td>2757</td>\n      <td>5.66</td>\n      <td>5.68</td>\n      <td>3.56</td>\n    </tr>\n    <tr>\n      <th>53938</th>\n      <td>53939</td>\n      <td>0.86</td>\n      <td>Premium</td>\n      <td>H</td>\n      <td>SI2</td>\n      <td>61.0</td>\n      <td>58.0</td>\n      <td>2757</td>\n      <td>6.15</td>\n      <td>6.12</td>\n      <td>3.74</td>\n    </tr>\n    <tr>\n      <th>53939</th>\n      <td>53940</td>\n      <td>0.75</td>\n      <td>Ideal</td>\n      <td>D</td>\n      <td>SI2</td>\n      <td>62.2</td>\n      <td>55.0</td>\n      <td>2757</td>\n      <td>5.83</td>\n      <td>5.87</td>\n      <td>3.64</td>\n    </tr>\n  </tbody>\n</table>\n<p>53940 rows × 11 columns</p>\n</div>"
     },
     "metadata": {}
    }
   ],
   "source": [
    "# <h2>Soal 2: Membaca data dari file</h2>\n",
    "\n",
    "# Download file bernama [diamonds.csv](https://drive.google.com/uc?export=download&id=1qQiM9utQUThTPq8jk8stPMh_y2zfqYOd), kemudian baca data tersebut dan assign ke dalam suatu variabel kemudian prin.\n",
    "datadiamonds=pd.read_csv('diamonds-1.csv')\n",
    "display(datadiamonds)"
   ]
  },
  {
   "cell_type": "code",
   "execution_count": 7,
   "metadata": {},
   "outputs": [
    {
     "output_type": "stream",
     "name": "stdout",
     "text": [
      "a     90\nb     80\nc     60\nd    100\ndtype: int64\n"
     ]
    }
   ],
   "source": [
    "# <h2>Soal 3: DataFrame vs Series</h2>\n",
    "# - Apa perbedaan Series dengan list dan dictionary\n",
    "\n",
    "Pada Series tipe data dari objek series ini harus seragam sedangkan list dan dictionary boleh tidak seragam\n",
    "\n",
    "# # - Apa perbedaan dataframe dan series\n",
    "\n",
    "Perbedaan dari Series dan DataFrame ini terletak pada strukturnya dan juga attribute dan method-method yang mereka miliki, untuk perbedaan strukturnya adalah sebagai berikut :\n",
    "1. Series adalah objek 1 dimensi\n",
    "2. DataFrame adalah suatu objek 2 dimensi, mirip seperti tabel\n",
    "\n",
    "# - Buatlah suatu data series\n",
    "nilaiujian=pd.Series([90,80,60,100])\n",
    "nilaiujian.index=['a','b','c','d']\n",
    "print(nilaiujian)\n"
   ]
  },
  {
   "cell_type": "code",
   "execution_count": 47,
   "metadata": {},
   "outputs": [
    {
     "output_type": "display_data",
     "data": {
      "text/plain": "0    326\nName: price, dtype: int64"
     },
     "metadata": {}
    },
    {
     "output_type": "display_data",
     "data": {
      "text/plain": "53939    D\nName: color, dtype: object"
     },
     "metadata": {}
    }
   ],
   "source": [
    "# <h2>Soal 4: Pemeriksaan Data Sederhana</h2>\n",
    "\n",
    "# Di soal no 2 kamu telah membaca data tentang diamonds. pada soal ini cobalah suatu metode dari pandas untuk mengetahui beberapa data pertama dan beberapa data terakhir. kemudian sebutkan nilai dari:\n",
    "# - baris pertama dari column price\n",
    "# - baris terakhir dari column color\n",
    "\n",
    "# tunjukan cara kalian menemukan nilai tersebut di block di bawah ini.\n",
    "datapertama=datadiamonds['price'].head(1)\n",
    "display(datapertama)\n",
    "# print(datapertama)\n",
    "dataterakhir=datadiamonds['color'].tail(1)\n",
    "display(dataterakhir)"
   ]
  },
  {
   "cell_type": "code",
   "execution_count": 26,
   "metadata": {},
   "outputs": [],
   "source": [
    "# <h2>Soal 5: Deskriptif Statistik</h2>\n",
    "\n",
    "# Jelaskan apa itu deskriptis statistik!\n",
    "Statistika Deskriptif merupakan suatu metode yang berhubungan dengan pengumpulan atau penyajian data sampai memberi informasi yang berguna."
   ]
  },
  {
   "cell_type": "code",
   "execution_count": 58,
   "metadata": {},
   "outputs": [
    {
     "output_type": "display_data",
     "data": {
      "text/plain": "'describe keseluruhan data: '"
     },
     "metadata": {}
    },
    {
     "output_type": "display_data",
     "data": {
      "text/plain": "         Unnamed: 0         carat         depth         table         price  \\\ncount  53940.000000  53940.000000  53940.000000  53940.000000  53940.000000   \nmean   26970.500000      0.797940     61.749405     57.457184   3932.799722   \nstd    15571.281097      0.474011      1.432621      2.234491   3989.439738   \nmin        1.000000      0.200000     43.000000     43.000000    326.000000   \n25%    13485.750000      0.400000     61.000000     56.000000    950.000000   \n50%    26970.500000      0.700000     61.800000     57.000000   2401.000000   \n75%    40455.250000      1.040000     62.500000     59.000000   5324.250000   \nmax    53940.000000      5.010000     79.000000     95.000000  18823.000000   \n\n                  x             y             z  \ncount  53940.000000  53940.000000  53940.000000  \nmean       5.731157      5.734526      3.538734  \nstd        1.121761      1.142135      0.705699  \nmin        0.000000      0.000000      0.000000  \n25%        4.710000      4.720000      2.910000  \n50%        5.700000      5.710000      3.530000  \n75%        6.540000      6.540000      4.040000  \nmax       10.740000     58.900000     31.800000  ",
      "text/html": "<div>\n<style scoped>\n    .dataframe tbody tr th:only-of-type {\n        vertical-align: middle;\n    }\n\n    .dataframe tbody tr th {\n        vertical-align: top;\n    }\n\n    .dataframe thead th {\n        text-align: right;\n    }\n</style>\n<table border=\"1\" class=\"dataframe\">\n  <thead>\n    <tr style=\"text-align: right;\">\n      <th></th>\n      <th>Unnamed: 0</th>\n      <th>carat</th>\n      <th>depth</th>\n      <th>table</th>\n      <th>price</th>\n      <th>x</th>\n      <th>y</th>\n      <th>z</th>\n    </tr>\n  </thead>\n  <tbody>\n    <tr>\n      <th>count</th>\n      <td>53940.000000</td>\n      <td>53940.000000</td>\n      <td>53940.000000</td>\n      <td>53940.000000</td>\n      <td>53940.000000</td>\n      <td>53940.000000</td>\n      <td>53940.000000</td>\n      <td>53940.000000</td>\n    </tr>\n    <tr>\n      <th>mean</th>\n      <td>26970.500000</td>\n      <td>0.797940</td>\n      <td>61.749405</td>\n      <td>57.457184</td>\n      <td>3932.799722</td>\n      <td>5.731157</td>\n      <td>5.734526</td>\n      <td>3.538734</td>\n    </tr>\n    <tr>\n      <th>std</th>\n      <td>15571.281097</td>\n      <td>0.474011</td>\n      <td>1.432621</td>\n      <td>2.234491</td>\n      <td>3989.439738</td>\n      <td>1.121761</td>\n      <td>1.142135</td>\n      <td>0.705699</td>\n    </tr>\n    <tr>\n      <th>min</th>\n      <td>1.000000</td>\n      <td>0.200000</td>\n      <td>43.000000</td>\n      <td>43.000000</td>\n      <td>326.000000</td>\n      <td>0.000000</td>\n      <td>0.000000</td>\n      <td>0.000000</td>\n    </tr>\n    <tr>\n      <th>25%</th>\n      <td>13485.750000</td>\n      <td>0.400000</td>\n      <td>61.000000</td>\n      <td>56.000000</td>\n      <td>950.000000</td>\n      <td>4.710000</td>\n      <td>4.720000</td>\n      <td>2.910000</td>\n    </tr>\n    <tr>\n      <th>50%</th>\n      <td>26970.500000</td>\n      <td>0.700000</td>\n      <td>61.800000</td>\n      <td>57.000000</td>\n      <td>2401.000000</td>\n      <td>5.700000</td>\n      <td>5.710000</td>\n      <td>3.530000</td>\n    </tr>\n    <tr>\n      <th>75%</th>\n      <td>40455.250000</td>\n      <td>1.040000</td>\n      <td>62.500000</td>\n      <td>59.000000</td>\n      <td>5324.250000</td>\n      <td>6.540000</td>\n      <td>6.540000</td>\n      <td>4.040000</td>\n    </tr>\n    <tr>\n      <th>max</th>\n      <td>53940.000000</td>\n      <td>5.010000</td>\n      <td>79.000000</td>\n      <td>95.000000</td>\n      <td>18823.000000</td>\n      <td>10.740000</td>\n      <td>58.900000</td>\n      <td>31.800000</td>\n    </tr>\n  </tbody>\n</table>\n</div>"
     },
     "metadata": {}
    },
    {
     "output_type": "stream",
     "name": "stdout",
     "text": [
      "nilai rata-rata price : 3932.799721913237\nnilai standar deviasi dari col depth:  1.432621318833661\nnilai maximum dari col carat : 5.01\n"
     ]
    }
   ],
   "source": [
    "# <h2>Soal 6: Practice Deskriptif Statistik</h2>\n",
    "\n",
    "# - Gunakan suatu metode dari pandas untuk mengetahui deskriptif statistik dari suatu data\n",
    "# - Berapa nilai rata-rata dari column price\n",
    "# - Berapa nilai standar deviasi dari column depth\n",
    "# - Berapa nilai maximum dari column carat\n",
    "display('describe keseluruhan data: ',datadiamonds.describe())\n",
    "nilai_rata_rata_price=datadiamonds['price'].mean()\n",
    "print('nilai rata-rata price :',nilai_rata_rata_price)\n",
    "nilai_std_depth=datadiamonds['depth'].std()\n",
    "print('nilai standar deviasi dari col depth: ',nilai_std_depth)\n",
    "nilai_max_carat=datadiamonds['carat'].max()\n",
    "print('nilai maximum dari col carat :',nilai_max_carat)\n",
    "\n",
    "\n",
    "\n",
    "\n",
    "\n",
    "# nilai_rata_col_price=deskripsidata['mean']\n",
    "\n",
    "# display(nilai_rata_col_price)\n",
    "\n",
    "# display(deskripsidata)\n"
   ]
  },
  {
   "cell_type": "code",
   "execution_count": null,
   "metadata": {},
   "outputs": [],
   "source": []
  }
 ]
}